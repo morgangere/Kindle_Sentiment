{
 "cells": [
  {
   "cell_type": "markdown",
   "id": "172c0f78",
   "metadata": {},
   "source": [
    "## Input"
   ]
  },
  {
   "cell_type": "code",
   "execution_count": 110,
   "id": "3ecd55c2",
   "metadata": {},
   "outputs": [],
   "source": [
    "import pandas as pd\n",
    "## Importing the csv file into a dava frame.\n",
    "df = pd.read_csv(r'C:\\Users\\Morga\\programsMG\\NaturalLanguageProcessing\\preprocessed_kindle_review.csv')"
   ]
  },
  {
   "cell_type": "markdown",
   "id": "17ae116f",
   "metadata": {},
   "source": [
    " ## Preprocessing"
   ]
  },
  {
   "cell_type": "code",
   "execution_count": 111,
   "id": "a793ae40",
   "metadata": {
    "scrolled": true
   },
   "outputs": [
    {
     "data": {
      "text/plain": [
       "Unnamed: 0    0\n",
       "rating        0\n",
       "reviewText    0\n",
       "summary       0\n",
       "dtype: int64"
      ]
     },
     "execution_count": 111,
     "metadata": {},
     "output_type": "execute_result"
    }
   ],
   "source": [
    "#checking for null values\n",
    "df.isnull().sum()"
   ]
  },
  {
   "cell_type": "code",
   "execution_count": 112,
   "id": "a6e52354",
   "metadata": {},
   "outputs": [
    {
     "data": {
      "text/plain": [
       "4    3000\n",
       "5    3000\n",
       "1    2000\n",
       "2    2000\n",
       "3    2000\n",
       "Name: rating, dtype: int64"
      ]
     },
     "execution_count": 112,
     "metadata": {},
     "output_type": "execute_result"
    }
   ],
   "source": [
    "# Finding the number of examples per label\n",
    "labelcounts = df['rating'].value_counts()\n",
    "labelcounts"
   ]
  },
  {
   "cell_type": "code",
   "execution_count": 113,
   "id": "597dd2d1",
   "metadata": {},
   "outputs": [
    {
     "name": "stdout",
     "output_type": "stream",
     "text": [
      "baseline and raw agreement:\n",
      "0.25\n",
      "0.2\n"
     ]
    }
   ],
   "source": [
    "# Finding the baseline and raw agreement\n",
    "print('baseline and raw agreement:')\n",
    "print(3000/sum(labelcounts))\n",
    "print(1/5)"
   ]
  },
  {
   "cell_type": "code",
   "execution_count": 114,
   "id": "bd562355",
   "metadata": {},
   "outputs": [],
   "source": [
    "# Splitting the data into lists\n",
    "M = df['reviewText'].tolist()\n",
    "y = df['rating'].tolist()"
   ]
  },
  {
   "cell_type": "code",
   "execution_count": 115,
   "id": "5e4c406d",
   "metadata": {},
   "outputs": [],
   "source": [
    "from vaderSentiment.vaderSentiment import SentimentIntensityAnalyzer\n",
    "analyzer = SentimentIntensityAnalyzer()\n",
    "#setting an empty list to save the compound scores into.\n",
    "vs_list_compound = [] \n",
    "#Looping through to get a compound score for each r\n",
    "#eview saving it into the compund list created.\n",
    "for review in M:\n",
    "    vs = analyzer.polarity_scores(review)\n",
    "    vs_list = vs['compound']\n",
    "    vs_list_compound.append(vs_list) "
   ]
  },
  {
   "cell_type": "code",
   "execution_count": 116,
   "id": "770397cd",
   "metadata": {},
   "outputs": [],
   "source": [
    "# creating a list to place predictions into\n",
    "sent1_5 =[]\n",
    "#selecting specific compund score range\n",
    "#If the score is found in that range\n",
    "#adding a numeric representation (1-5)\n",
    "#into the list of predictions\n",
    "for item in vs_list_compound:\n",
    "    if item <=(-.6):\n",
    "        sent1_5.append(1)\n",
    "    elif item >-.6 and item <=-.2:\n",
    "        sent1_5.append(2)\n",
    "    elif item >-.2 and item <=.2:\n",
    "        sent1_5.append(3)\n",
    "    elif item >.2 <=.6 and item:\n",
    "        sent1_5.append(4)\n",
    "    elif item >.6 and item:\n",
    "        sent1_5.append(5)"
   ]
  },
  {
   "cell_type": "code",
   "execution_count": 117,
   "id": "bd9efe68",
   "metadata": {},
   "outputs": [
    {
     "data": {
      "text/plain": [
       "0.3010833333333333"
      ]
     },
     "execution_count": 117,
     "metadata": {},
     "output_type": "execute_result"
    }
   ],
   "source": [
    "from sklearn.metrics import accuracy_score\n",
    "accuracy_score(y,sent1_5)"
   ]
  },
  {
   "cell_type": "code",
   "execution_count": 118,
   "id": "d6a02c4c",
   "metadata": {},
   "outputs": [],
   "source": [
    "## Using Regular expressions to remove words containing multiple repeats of characters\n",
    "import re\n",
    "X=[]\n",
    "for item in M:\n",
    "    X.append(re.sub(r'([a-zA-Z0-9_<>-])\\1+', r'\\1\\1', item))"
   ]
  },
  {
   "cell_type": "code",
   "execution_count": 119,
   "id": "0e071933",
   "metadata": {},
   "outputs": [],
   "source": [
    "## comment out to use full data set\n",
    "#X=X[:1000]\n",
    "#y= y[:1000]"
   ]
  },
  {
   "cell_type": "code",
   "execution_count": 120,
   "id": "83c0d717",
   "metadata": {},
   "outputs": [
    {
     "data": {
      "text/plain": [
       "12000"
      ]
     },
     "execution_count": 120,
     "metadata": {},
     "output_type": "execute_result"
    }
   ],
   "source": [
    "len(X)"
   ]
  },
  {
   "cell_type": "markdown",
   "id": "17adaaf4",
   "metadata": {},
   "source": [
    "## Vectorization"
   ]
  },
  {
   "cell_type": "code",
   "execution_count": 121,
   "id": "c4bce695",
   "metadata": {},
   "outputs": [],
   "source": [
    "from nltk.tokenize import word_tokenize \n",
    "\n",
    "textdocuments=[]\n",
    "for item in X:\n",
    "     textdocuments.append(word_tokenize(item))"
   ]
  },
  {
   "cell_type": "code",
   "execution_count": 122,
   "id": "1a76898c",
   "metadata": {},
   "outputs": [],
   "source": [
    "def merge(list1, list2):\n",
    "    merged_list = [(list1 [i], list2 [i]) for i in range (0, len(list1))]\n",
    "    return merged_list"
   ]
  },
  {
   "cell_type": "code",
   "execution_count": 123,
   "id": "02c07d0a",
   "metadata": {},
   "outputs": [],
   "source": [
    "documents = merge(textdocuments,y) "
   ]
  },
  {
   "cell_type": "code",
   "execution_count": 124,
   "id": "579f3eaf",
   "metadata": {},
   "outputs": [
    {
     "name": "stdout",
     "output_type": "stream",
     "text": [
      "2\n",
      "(['This', 'book', 'was', 'the', 'very', 'first', 'bookmobile', 'book', 'I', 'bought', 'when', 'I', 'was', 'in', 'the', 'school', 'book', 'club', '.', 'I', 'loved', 'the', 'story', 'then', 'and', 'I', 'bet', 'a', 'dollar', 'to', 'a', 'donut', 'I', 'will', 'love', 'it', 'again', '.', 'If', 'my', 'memory', 'serves', ',', 'I', 'bought', 'this', 'book', 'in', '5th', 'grade', '.', 'That', 'would', 'have', 'been', 'about', '1961', '.', 'I', 'am', 'looking', 'forward', 'to', 'reliving', 'the', 'memories', '.'], 5)\n"
     ]
    }
   ],
   "source": [
    "print(len(documents[0]))\n",
    "print(documents[0])"
   ]
  },
  {
   "cell_type": "markdown",
   "id": "203dec0d",
   "metadata": {},
   "source": [
    "## NLTK approach"
   ]
  },
  {
   "cell_type": "markdown",
   "id": "1301a9fb",
   "metadata": {},
   "source": [
    "## BOW classification (MNB)"
   ]
  },
  {
   "cell_type": "code",
   "execution_count": 125,
   "id": "6240e2f8",
   "metadata": {},
   "outputs": [],
   "source": [
    "import nltk\n",
    "# get all words from all kindle reviews and put into a frequency distribution\n",
    "#   note lowercase, but no stemming or stopwords\n",
    "all_words_list = [word for (sent,cat) in documents for word in sent]\n",
    "all_words = nltk.FreqDist(all_words_list)\n",
    "# get the 2000 most frequently appearing keywords in the corpus\n",
    "word_items = all_words.most_common(2000)\n",
    "word_features = [word for (word,count) in word_items]"
   ]
  },
  {
   "cell_type": "code",
   "execution_count": 126,
   "id": "1f470be3",
   "metadata": {},
   "outputs": [],
   "source": [
    "# define features (keywords) of a document for a BOW/unigram baseline\n",
    "# each feature is 'contains(keyword)' and is true or false depending\n",
    "# on whether that keyword is in the document\n",
    "def document_features(document, word_features):\n",
    "    document_words = set(document)\n",
    "    features = {}\n",
    "    for word in word_features:\n",
    "        features['V_{}'.format(word)] = (word in document_words)\n",
    "    return features"
   ]
  },
  {
   "cell_type": "code",
   "execution_count": 127,
   "id": "656f418e",
   "metadata": {},
   "outputs": [],
   "source": [
    "# using the funtion to create a list of dictionaries\n",
    "featuresets = [document_features(d, word_features) for (d, c) in documents]"
   ]
  },
  {
   "cell_type": "code",
   "execution_count": 128,
   "id": "d7bdcbd2",
   "metadata": {},
   "outputs": [],
   "source": [
    "# Using the list of dicts to create a data frame\n",
    "X_fs = pd.DataFrame(featuresets)"
   ]
  },
  {
   "cell_type": "code",
   "execution_count": 129,
   "id": "118fb3a5",
   "metadata": {},
   "outputs": [
    {
     "data": {
      "text/plain": [
       "False    2000\n",
       "dtype: int64"
      ]
     },
     "execution_count": 129,
     "metadata": {},
     "output_type": "execute_result"
    }
   ],
   "source": [
    "pd.set_option('max_columns', None)\n",
    "X_fs.isnull().any().value_counts()"
   ]
  },
  {
   "cell_type": "code",
   "execution_count": 130,
   "id": "4e4934f5",
   "metadata": {},
   "outputs": [],
   "source": [
    "# import the module\n",
    "from sklearn.naive_bayes import MultinomialNB\n",
    "from sklearn.model_selection import cross_val_score\n",
    "from sklearn.model_selection import cross_val_predict \n",
    "from sklearn.metrics import f1_score\n",
    "from sklearn.metrics import make_scorer\n",
    "from sklearn.model_selection import GridSearchCV\n",
    "import numpy as np"
   ]
  },
  {
   "cell_type": "code",
   "execution_count": 131,
   "id": "3d7187a9",
   "metadata": {},
   "outputs": [],
   "source": [
    "# initialize the model\n",
    "mnb1_fs = MultinomialNB()"
   ]
  },
  {
   "cell_type": "code",
   "execution_count": 132,
   "id": "4b362cb1",
   "metadata": {},
   "outputs": [
    {
     "name": "stdout",
     "output_type": "stream",
     "text": [
      "0.4939\n"
     ]
    }
   ],
   "source": [
    "# use the training data to train the model\n",
    "mnb_model_fs = mnb1_fs.fit(X_fs,y)\n",
    "#cross validation score\n",
    "mnb_cv_scores_fs = cross_val_score(mnb1_fs, X_fs, y, cv=10)\n",
    "#finding the overall average accuracy.\n",
    "mnb_cv_score_fs = round(np.mean(mnb_cv_scores_fs),4)\n",
    "print(mnb_cv_score_fs)"
   ]
  },
  {
   "cell_type": "code",
   "execution_count": 133,
   "id": "9d8964a6",
   "metadata": {},
   "outputs": [
    {
     "name": "stdout",
     "output_type": "stream",
     "text": [
      "[[1300  435  113   66   86]\n",
      " [ 689  741  305  150  115]\n",
      " [ 285  393  649  438  235]\n",
      " [ 155  164  496 1135 1050]\n",
      " [ 131   46  128  593 2102]]\n",
      "\n",
      "              precision    recall  f1-score   support\n",
      "\n",
      "           1       0.51      0.65      0.57      2000\n",
      "           2       0.42      0.37      0.39      2000\n",
      "           3       0.38      0.32      0.35      2000\n",
      "           4       0.48      0.38      0.42      3000\n",
      "           5       0.59      0.70      0.64      3000\n",
      "\n",
      "    accuracy                           0.49     12000\n",
      "   macro avg       0.47      0.48      0.47     12000\n",
      "weighted avg       0.48      0.49      0.48     12000\n",
      "\n"
     ]
    }
   ],
   "source": [
    "# print confusion matrix and classification report\n",
    "mnb_pred_fs = cross_val_predict(mnb1_fs, X_fs, y, cv=10)\n",
    "\n",
    "from sklearn.metrics import confusion_matrix\n",
    "cm=confusion_matrix(y, mnb_pred_fs, labels=[1,2,3,4,5])\n",
    "print(cm)\n",
    "print()\n",
    "\n",
    "from sklearn.metrics import classification_report\n",
    "target_names = ['1','2','3','4','5']\n",
    "mnb_fs_report= classification_report(y, mnb_pred_fs, target_names=target_names)\n",
    "print(mnb_fs_report)"
   ]
  },
  {
   "cell_type": "code",
   "execution_count": 134,
   "id": "d25f9a63",
   "metadata": {},
   "outputs": [],
   "source": [
    "mnb_f1_1_score_fs = float(mnb_fs_report[94:98])\n",
    "mnb_f1_2_score_fs = float(mnb_fs_report[148:152])\n",
    "mnb_f1_3_score_fs = float(mnb_fs_report[202:206])\n",
    "mnb_f1_4_score_fs = float(mnb_fs_report[256:260])\n",
    "mnb_f1_5_score_fs = float(mnb_fs_report[310:314])"
   ]
  },
  {
   "cell_type": "markdown",
   "id": "181685e0",
   "metadata": {},
   "source": [
    "##  BOW classification + Bigrams (MNB)"
   ]
  },
  {
   "cell_type": "code",
   "execution_count": 135,
   "id": "e381b24d",
   "metadata": {},
   "outputs": [],
   "source": [
    "# set up for using bigrams\n",
    "from nltk.collocations import *\n",
    "bigram_measures = nltk.collocations.BigramAssocMeasures()"
   ]
  },
  {
   "cell_type": "code",
   "execution_count": 136,
   "id": "401bee89",
   "metadata": {},
   "outputs": [],
   "source": [
    "# create the bigram finder on all the words in sequence\n",
    "finder = BigramCollocationFinder.from_words(all_words_list)"
   ]
  },
  {
   "cell_type": "code",
   "execution_count": 137,
   "id": "b8d44009",
   "metadata": {},
   "outputs": [],
   "source": [
    "# define the top 500 bigrams using the chi squared measure\n",
    "bigram_features = finder.nbest(bigram_measures.chi_sq, 500)"
   ]
  },
  {
   "cell_type": "code",
   "execution_count": 138,
   "id": "a1c63be1",
   "metadata": {},
   "outputs": [],
   "source": [
    "# define features that include words as before \n",
    "# add the most frequent significant bigrams\n",
    "# this function takes the list of words in a document as an argument and returns a feature dictionary\n",
    "# it depends on the variables word_features and bigram_features\n",
    "def bigram_document_features(document, word_features, bigram_features):\n",
    "    document_words = set(document)\n",
    "    document_bigrams = nltk.bigrams(document)\n",
    "    features = {}\n",
    "    for word in word_features:\n",
    "        features['V_{}'.format(word)] = (word in document_words)\n",
    "    for bigram in bigram_features:\n",
    "        features['B_{}_{}'.format(bigram[0], bigram[1])] = (bigram in document_bigrams)    \n",
    "    return features"
   ]
  },
  {
   "cell_type": "code",
   "execution_count": 139,
   "id": "928e0bbc",
   "metadata": {},
   "outputs": [],
   "source": [
    "# using the funtion to create a list of dictionaries\n",
    "bigram_featuresets = [bigram_document_features(d, word_features, bigram_features) for (d, c) in documents]"
   ]
  },
  {
   "cell_type": "code",
   "execution_count": 140,
   "id": "b49f9e39",
   "metadata": {},
   "outputs": [],
   "source": [
    "X_bifs = pd.DataFrame(bigram_featuresets)"
   ]
  },
  {
   "cell_type": "code",
   "execution_count": 141,
   "id": "9af73437",
   "metadata": {},
   "outputs": [],
   "source": [
    "# import the module\n",
    "from sklearn.naive_bayes import MultinomialNB\n",
    "from sklearn.model_selection import cross_val_score\n",
    "import numpy as np\n"
   ]
  },
  {
   "cell_type": "code",
   "execution_count": 142,
   "id": "9f4afdf8",
   "metadata": {},
   "outputs": [
    {
     "name": "stdout",
     "output_type": "stream",
     "text": [
      "0.4946\n"
     ]
    }
   ],
   "source": [
    "# initialize the model\n",
    "mnb1_bifs = MultinomialNB()\n",
    "# use the training data to train the model\n",
    "mnb_model_bifs = mnb1_bifs.fit(X_bifs,y)\n",
    "#cross validation score\n",
    "mnb_cv_scores_bifs = cross_val_score(mnb1_bifs, X_bifs, y, cv=10)\n",
    "#finding the overall average accuracy.\n",
    "mnb_cv_score_bifs = round(np.mean(mnb_cv_scores_bifs),4)\n",
    "print(mnb_cv_score_bifs)"
   ]
  },
  {
   "cell_type": "code",
   "execution_count": 143,
   "id": "71d18809",
   "metadata": {},
   "outputs": [
    {
     "name": "stdout",
     "output_type": "stream",
     "text": [
      "[[1284  447  111   71   87]\n",
      " [ 680  743  304  155  118]\n",
      " [ 279  394  642  451  234]\n",
      " [ 147  163  484 1168 1038]\n",
      " [ 125   46  126  605 2098]]\n",
      "\n",
      "              precision    recall  f1-score   support\n",
      "\n",
      "           1       0.51      0.64      0.57      2000\n",
      "           2       0.41      0.37      0.39      2000\n",
      "           3       0.39      0.32      0.35      2000\n",
      "           4       0.48      0.39      0.43      3000\n",
      "           5       0.59      0.70      0.64      3000\n",
      "\n",
      "    accuracy                           0.49     12000\n",
      "   macro avg       0.47      0.48      0.48     12000\n",
      "weighted avg       0.48      0.49      0.49     12000\n",
      "\n"
     ]
    }
   ],
   "source": [
    "# print confusion matrix and classification report\n",
    "mnb_pred_bifs = cross_val_predict(mnb1_bifs, X_bifs, y, cv=10)\n",
    "\n",
    "from sklearn.metrics import confusion_matrix\n",
    "cm=confusion_matrix(y, mnb_pred_bifs, labels=[1,2,3,4,5])\n",
    "print(cm)\n",
    "print()\n",
    "\n",
    "from sklearn.metrics import classification_report\n",
    "target_names = ['1','2','3','4','5']\n",
    "mnb_bifs_report= classification_report(y, mnb_pred_bifs, target_names=target_names)\n",
    "print(mnb_bifs_report)"
   ]
  },
  {
   "cell_type": "code",
   "execution_count": 144,
   "id": "03392726",
   "metadata": {},
   "outputs": [],
   "source": [
    "mnb_f1_1_score_bifs = float(mnb_bifs_report[94:98])\n",
    "mnb_f1_2_score_bifs = float(mnb_bifs_report[148:152])\n",
    "mnb_f1_3_score_bifs = float(mnb_bifs_report[202:206])\n",
    "mnb_f1_4_score_bifs = float(mnb_bifs_report[256:260])\n",
    "mnb_f1_5_score_bifs = float(mnb_bifs_report[310:314])"
   ]
  },
  {
   "cell_type": "markdown",
   "id": "a8a1adb0",
   "metadata": {},
   "source": [
    "## Sklearn approach "
   ]
  },
  {
   "cell_type": "markdown",
   "id": "b25ab080",
   "metadata": {},
   "source": [
    "## MNB Unigram"
   ]
  },
  {
   "cell_type": "code",
   "execution_count": 145,
   "id": "ad46544d",
   "metadata": {},
   "outputs": [],
   "source": [
    "# import the  module\n",
    "from sklearn.svm import LinearSVC\n",
    "from sklearn.naive_bayes import MultinomialNB\n",
    "from sklearn.model_selection import cross_val_score\n",
    "import numpy as np"
   ]
  },
  {
   "cell_type": "code",
   "execution_count": 146,
   "id": "6ba4e3fe",
   "metadata": {},
   "outputs": [],
   "source": [
    "from sklearn.feature_extraction.text import CountVectorizer\n",
    "bool_vectorizer = CountVectorizer(encoding='latin-1'\n",
    "                                                 , binary=True\n",
    "                                                 , min_df=5 \n",
    "                                                 , max_features=2450)"
   ]
  },
  {
   "cell_type": "code",
   "execution_count": 147,
   "id": "9e3b4eb9",
   "metadata": {},
   "outputs": [],
   "source": [
    "# fitting and transforming the training data using the count vectorizer\n",
    "X_train_bool_mnb = bool_vectorizer.fit_transform(X)"
   ]
  },
  {
   "cell_type": "code",
   "execution_count": 148,
   "id": "18bd955d",
   "metadata": {},
   "outputs": [
    {
     "name": "stdout",
     "output_type": "stream",
     "text": [
      "0.5032\n"
     ]
    }
   ],
   "source": [
    "# initialize the  model\n",
    "mnb1 = MultinomialNB()\n",
    "# use the training data to train the model\n",
    "#mnb_model = mnb1.fit(X_train_mnb,y)\n",
    "#cross validation score\n",
    "mnb_cv_scores = cross_val_score(mnb1, X_train_bool_mnb, y, cv=10)\n",
    "#finding the overall average accuracy.\n",
    "mnb_cv_score = round(np.mean(mnb_cv_scores),4)\n",
    "print(mnb_cv_score)"
   ]
  },
  {
   "cell_type": "code",
   "execution_count": 149,
   "id": "08284ef5",
   "metadata": {},
   "outputs": [],
   "source": [
    "from sklearn.feature_extraction.text import TfidfVectorizer\n",
    "unigram_tfidf_vectorizer_mnb = TfidfVectorizer(encoding='latin-1'\n",
    "                                                 , use_idf=True\n",
    "                                                 , min_df=5 \n",
    "                                                 , max_features=2450\n",
    "                                                )"
   ]
  },
  {
   "cell_type": "code",
   "execution_count": 150,
   "id": "b737aa1d",
   "metadata": {},
   "outputs": [],
   "source": [
    "# fitting and transforming the training data using the count vectorizer\n",
    "X_train_mnb = unigram_tfidf_vectorizer_mnb.fit_transform(X)"
   ]
  },
  {
   "cell_type": "code",
   "execution_count": 151,
   "id": "25434da2",
   "metadata": {},
   "outputs": [
    {
     "name": "stdout",
     "output_type": "stream",
     "text": [
      "0.503\n"
     ]
    }
   ],
   "source": [
    "# initialize the  model\n",
    "mnb1 = MultinomialNB()\n",
    "# use the training data to train the model\n",
    "#mnb_model = mnb1.fit(X_train_mnb,y)\n",
    "#cross validation score\n",
    "mnb_cv_scores = cross_val_score(mnb1, X_train_mnb, y, cv=10)\n",
    "#finding the overall average accuracy.\n",
    "mnb_cv_score = round(np.mean(mnb_cv_scores),4)\n",
    "print(mnb_cv_score)"
   ]
  },
  {
   "cell_type": "code",
   "execution_count": 152,
   "id": "e340fb6a",
   "metadata": {},
   "outputs": [
    {
     "name": "stdout",
     "output_type": "stream",
     "text": [
      "[[1144  435   47  253  121]\n",
      " [ 502  738  158  468  134]\n",
      " [ 147  324  323 1013  193]\n",
      " [  57   93  134 1791  925]\n",
      " [  53   22   15  870 2040]]\n",
      "\n",
      "              precision    recall  f1-score   support\n",
      "\n",
      "           1       0.60      0.57      0.59      2000\n",
      "           2       0.46      0.37      0.41      2000\n",
      "           3       0.48      0.16      0.24      2000\n",
      "           4       0.41      0.60      0.48      3000\n",
      "           5       0.60      0.68      0.64      3000\n",
      "\n",
      "    accuracy                           0.50     12000\n",
      "   macro avg       0.51      0.48      0.47     12000\n",
      "weighted avg       0.51      0.50      0.49     12000\n",
      "\n"
     ]
    }
   ],
   "source": [
    "from sklearn.model_selection import cross_val_predict\n",
    "# print confusion matrix and classification report\n",
    "mnb_pred = cross_val_predict(mnb1, X_train_mnb, y, cv=10)\n",
    "\n",
    "from sklearn.metrics import confusion_matrix\n",
    "cm=confusion_matrix(y, mnb_pred, labels=[1,2,3,4,5])\n",
    "print(cm)\n",
    "print()\n",
    "\n",
    "from sklearn.metrics import classification_report\n",
    "target_names = ['1','2','3','4','5']\n",
    "mnb_report= classification_report(y, mnb_pred, target_names=target_names)\n",
    "print(mnb_report)"
   ]
  },
  {
   "cell_type": "code",
   "execution_count": 153,
   "id": "9fffbaed",
   "metadata": {},
   "outputs": [],
   "source": [
    "mnb_f1_1_score = float(mnb_report[94:98])\n",
    "mnb_f1_2_score = float(mnb_report[148:152])\n",
    "mnb_f1_3_score = float(mnb_report[202:206])\n",
    "mnb_f1_4_score = float(mnb_report[256:260])\n",
    "mnb_f1_5_score = float(mnb_report[310:314])"
   ]
  },
  {
   "cell_type": "markdown",
   "id": "e8a44033",
   "metadata": {},
   "source": [
    "## Stemming"
   ]
  },
  {
   "cell_type": "code",
   "execution_count": 154,
   "id": "8d63e640",
   "metadata": {},
   "outputs": [],
   "source": [
    "from nltk.stem.porter import PorterStemmer\n",
    "from sklearn.feature_extraction.text import TfidfVectorizer\n",
    "\n",
    "stemmer = PorterStemmer()\n",
    "analyzer = TfidfVectorizer().build_analyzer()\n",
    "\n",
    "def stemmed_words(doc):\n",
    "    return (stemmer.stem(w) for w in analyzer(doc))"
   ]
  },
  {
   "cell_type": "code",
   "execution_count": 155,
   "id": "a8d66345",
   "metadata": {},
   "outputs": [],
   "source": [
    "# import the  module\n",
    "from sklearn.svm import LinearSVC\n",
    "from sklearn.naive_bayes import MultinomialNB\n",
    "from sklearn.model_selection import cross_val_score\n",
    "import numpy as np"
   ]
  },
  {
   "cell_type": "code",
   "execution_count": 156,
   "id": "870930ef",
   "metadata": {},
   "outputs": [],
   "source": [
    "from sklearn.feature_extraction.text import TfidfVectorizer\n",
    "unigram_tfidf_vectorizer_mnb_stem = TfidfVectorizer(encoding='latin-1'\n",
    "                                                 , use_idf=True\n",
    "                                                 , min_df=5 \n",
    "                                                 , max_features=2450\n",
    "                                                 ,analyzer=stemmed_words\n",
    "                                                )"
   ]
  },
  {
   "cell_type": "code",
   "execution_count": 157,
   "id": "b5ff4a8d",
   "metadata": {},
   "outputs": [],
   "source": [
    "# fitting and transforming the training data using the count vectorizer\n",
    "X_train_mnb_stem = unigram_tfidf_vectorizer_mnb_stem.fit_transform(X)"
   ]
  },
  {
   "cell_type": "code",
   "execution_count": 158,
   "id": "fb633b82",
   "metadata": {},
   "outputs": [
    {
     "name": "stdout",
     "output_type": "stream",
     "text": [
      "0.4969\n"
     ]
    }
   ],
   "source": [
    "# initialize the  model\n",
    "mnb_stem = MultinomialNB()\n",
    "# use the training data to train the model\n",
    "#mnb_model = mnb1.fit(X_train_mnb,y)\n",
    "#cross validation score\n",
    "mnb_cv_scores_stem = cross_val_score(mnb_stem, X_train_mnb_stem, y, cv=10)\n",
    "#finding the overall average accuracy.\n",
    "mnb_cv_score_stem = round(np.mean(mnb_cv_scores_stem),4)\n",
    "print(mnb_cv_score_stem)"
   ]
  },
  {
   "cell_type": "code",
   "execution_count": 159,
   "id": "d494225e",
   "metadata": {},
   "outputs": [
    {
     "name": "stdout",
     "output_type": "stream",
     "text": [
      "[[1144  435   47  253  121]\n",
      " [ 502  738  158  468  134]\n",
      " [ 147  324  323 1013  193]\n",
      " [  57   93  134 1791  925]\n",
      " [  53   22   15  870 2040]]\n",
      "\n",
      "              precision    recall  f1-score   support\n",
      "\n",
      "           1       0.60      0.57      0.59      2000\n",
      "           2       0.46      0.37      0.41      2000\n",
      "           3       0.48      0.16      0.24      2000\n",
      "           4       0.41      0.60      0.48      3000\n",
      "           5       0.60      0.68      0.64      3000\n",
      "\n",
      "    accuracy                           0.50     12000\n",
      "   macro avg       0.51      0.48      0.47     12000\n",
      "weighted avg       0.51      0.50      0.49     12000\n",
      "\n"
     ]
    }
   ],
   "source": [
    "from sklearn.model_selection import cross_val_predict\n",
    "# print confusion matrix and classification report\n",
    "mnb_stem_pred = cross_val_predict(mnb1, X_train_mnb, y, cv=10)\n",
    "\n",
    "from sklearn.metrics import confusion_matrix\n",
    "cm=confusion_matrix(y, mnb_stem_pred, labels=[1,2,3,4,5])\n",
    "print(cm)\n",
    "print()\n",
    "\n",
    "from sklearn.metrics import classification_report\n",
    "target_names = ['1','2','3','4','5']\n",
    "mnb_stem_report= classification_report(y, mnb_stem_pred, target_names=target_names)\n",
    "print(mnb_stem_report)"
   ]
  },
  {
   "cell_type": "code",
   "execution_count": 160,
   "id": "61ffc11e",
   "metadata": {},
   "outputs": [],
   "source": [
    "mnb_stem_f1_1_score = float(mnb_stem_report[94:98])\n",
    "mnb_stem_f1_2_score = float(mnb_stem_report[148:152])\n",
    "mnb_stem_f1_3_score = float(mnb_stem_report[202:206])\n",
    "mnb_stem_f1_4_score = float(mnb_stem_report[256:260])\n",
    "mnb_stem_f1_5_score = float(mnb_stem_report[310:314])"
   ]
  },
  {
   "cell_type": "markdown",
   "id": "de7e0902",
   "metadata": {},
   "source": [
    "## MNB Ngram (adding bigrams)"
   ]
  },
  {
   "cell_type": "code",
   "execution_count": 161,
   "id": "26bb095d",
   "metadata": {},
   "outputs": [],
   "source": [
    "from sklearn.feature_extraction.text import CountVectorizer\n",
    "bool_vectorizer = CountVectorizer(encoding='latin-1'\n",
    "                                                 , ngram_range=(1,2)\n",
    "                                                 , binary=True\n",
    "                                                 , min_df=5 \n",
    "                                                 , max_features=3000)"
   ]
  },
  {
   "cell_type": "code",
   "execution_count": 162,
   "id": "8c8b999e",
   "metadata": {},
   "outputs": [],
   "source": [
    "# fitting and transforming the training data using the count vectorizer\n",
    "X_train_mnb_bool_2 = bool_vectorizer.fit_transform(X)"
   ]
  },
  {
   "cell_type": "code",
   "execution_count": 166,
   "id": "cff3b9f8",
   "metadata": {},
   "outputs": [
    {
     "name": "stdout",
     "output_type": "stream",
     "text": [
      "0.5118\n"
     ]
    }
   ],
   "source": [
    "# initialize the  model\n",
    "mnb2 = MultinomialNB()\n",
    "# use the training data to train the model\n",
    "#mnb_model_2 = mnb2.fit(X_train_mnb_2,y)\n",
    "#cross validation score\n",
    "mnb_cv_scores_2 = cross_val_score(mnb2, X_train_mnb_bool_2, y, cv=10)\n",
    "#finding the overall average accuracy.\n",
    "mnb_cv_score_2 = round(np.mean(mnb_cv_scores_2),4)\n",
    "print(mnb_cv_score_2)"
   ]
  },
  {
   "cell_type": "code",
   "execution_count": 167,
   "id": "999e8818",
   "metadata": {},
   "outputs": [],
   "source": [
    "from sklearn.feature_extraction.text import TfidfVectorizer\n",
    "ngram_tfidf_vectorizer_mnb = TfidfVectorizer(encoding='latin-1'\n",
    "                                                 ,ngram_range=(1,2)\n",
    "                                                , use_idf=True\n",
    "                                                 , min_df=5\n",
    "                                                 , max_features=3000\n",
    "                                                                  )"
   ]
  },
  {
   "cell_type": "code",
   "execution_count": 168,
   "id": "5eaeac95",
   "metadata": {},
   "outputs": [],
   "source": [
    "# fitting and transforming the training data using the count vectorizer\n",
    "X_train_mnb_2 = ngram_tfidf_vectorizer_mnb.fit_transform(X)"
   ]
  },
  {
   "cell_type": "code",
   "execution_count": 169,
   "id": "366a96cb",
   "metadata": {},
   "outputs": [
    {
     "name": "stdout",
     "output_type": "stream",
     "text": [
      "0.5136\n"
     ]
    }
   ],
   "source": [
    "# initialize the  model\n",
    "mnb2 = MultinomialNB()\n",
    "# use the training data to train the model\n",
    "#mnb_model_2 = mnb2.fit(X_train_mnb_2,y)\n",
    "#cross validation score\n",
    "mnb_cv_scores_2 = cross_val_score(mnb2, X_train_mnb_2, y, cv=10)\n",
    "#finding the overall average accuracy.\n",
    "mnb_cv_score_2 = round(np.mean(mnb_cv_scores_2),4)\n",
    "print(mnb_cv_score_2)"
   ]
  },
  {
   "cell_type": "code",
   "execution_count": 170,
   "id": "5ad4f438",
   "metadata": {},
   "outputs": [
    {
     "name": "stdout",
     "output_type": "stream",
     "text": [
      "[[1142  447   66  227  118]\n",
      " [ 498  807  194  365  136]\n",
      " [ 152  371  418  869  190]\n",
      " [  47   92  213 1699  949]\n",
      " [  47   23   18  815 2097]]\n",
      "\n",
      "              precision    recall  f1-score   support\n",
      "\n",
      "           1       0.61      0.57      0.59      2000\n",
      "           2       0.46      0.40      0.43      2000\n",
      "           3       0.46      0.21      0.29      2000\n",
      "           4       0.43      0.57      0.49      3000\n",
      "           5       0.60      0.70      0.65      3000\n",
      "\n",
      "    accuracy                           0.51     12000\n",
      "   macro avg       0.51      0.49      0.49     12000\n",
      "weighted avg       0.51      0.51      0.50     12000\n",
      "\n"
     ]
    }
   ],
   "source": [
    "# print confusion matrix and classification report\n",
    "mnb_pred_2 = cross_val_predict(mnb2, X_train_mnb_2, y, cv=10)\n",
    "\n",
    "from sklearn.metrics import confusion_matrix\n",
    "cm=confusion_matrix(y, mnb_pred_2, labels=[1,2,3,4,5])\n",
    "print(cm)\n",
    "print()\n",
    "\n",
    "from sklearn.metrics import classification_report\n",
    "target_names = ['1','2','3','4','5']\n",
    "mnb_2_report= classification_report(y, mnb_pred_2, target_names=target_names)\n",
    "print(mnb_2_report)"
   ]
  },
  {
   "cell_type": "code",
   "execution_count": 171,
   "id": "cf49eec3",
   "metadata": {},
   "outputs": [],
   "source": [
    "mnb_f1_1_score_2 = float(mnb_2_report[94:98])\n",
    "mnb_f1_2_score_2 = float(mnb_2_report[148:152])\n",
    "mnb_f1_3_score_2 = float(mnb_2_report[202:206])\n",
    "mnb_f1_4_score_2 = float(mnb_2_report[256:260])\n",
    "mnb_f1_5_score_2 = float(mnb_2_report[310:314])"
   ]
  },
  {
   "cell_type": "markdown",
   "id": "6ddbce96",
   "metadata": {},
   "source": [
    "## mnb Trigrams"
   ]
  },
  {
   "cell_type": "code",
   "execution_count": 172,
   "id": "5c91d684",
   "metadata": {},
   "outputs": [],
   "source": [
    "from sklearn.feature_extraction.text import TfidfVectorizer\n",
    "ngram_tfidf_vectorizer_mnb_tri = TfidfVectorizer(encoding='latin-1'\n",
    "                                                 ,ngram_range=(1,3)\n",
    "                                                 , use_idf=True\n",
    "                                                 , min_df=5\n",
    "                                                 , max_features=2450\n",
    "                                                )"
   ]
  },
  {
   "cell_type": "code",
   "execution_count": 173,
   "id": "10be3fac",
   "metadata": {},
   "outputs": [],
   "source": [
    "# fitting and transforming the training data using the count vectorizer\n",
    "X_train_mnb_tri = ngram_tfidf_vectorizer_mnb_tri.fit_transform(X)"
   ]
  },
  {
   "cell_type": "code",
   "execution_count": 174,
   "id": "6effb005",
   "metadata": {},
   "outputs": [
    {
     "name": "stdout",
     "output_type": "stream",
     "text": [
      "0.51\n"
     ]
    }
   ],
   "source": [
    "# initialize the  model\n",
    "mnb_tri = MultinomialNB()\n",
    "# use the training data to train the model\n",
    "#mnb_model_2 = mnb2.fit(X_train_mnb_2,y)\n",
    "#cross validation score\n",
    "mnb_cv_scores_tri = cross_val_score(mnb_tri, X_train_mnb_tri, y, cv=10)\n",
    "#finding the overall average accuracy.\n",
    "mnb_cv_score_tri = round(np.mean(mnb_cv_scores_tri),4)\n",
    "print(mnb_cv_score_tri)"
   ]
  },
  {
   "cell_type": "code",
   "execution_count": 175,
   "id": "3fab03cf",
   "metadata": {},
   "outputs": [
    {
     "name": "stdout",
     "output_type": "stream",
     "text": [
      "[[1132  450   66  229  123]\n",
      " [ 500  769  223  380  128]\n",
      " [ 166  347  452  844  191]\n",
      " [  55   95  217 1708  925]\n",
      " [  63   29   29  820 2059]]\n",
      "\n",
      "              precision    recall  f1-score   support\n",
      "\n",
      "           1       0.59      0.57      0.58      2000\n",
      "           2       0.46      0.38      0.42      2000\n",
      "           3       0.46      0.23      0.30      2000\n",
      "           4       0.43      0.57      0.49      3000\n",
      "           5       0.60      0.69      0.64      3000\n",
      "\n",
      "    accuracy                           0.51     12000\n",
      "   macro avg       0.51      0.49      0.49     12000\n",
      "weighted avg       0.51      0.51      0.50     12000\n",
      "\n"
     ]
    }
   ],
   "source": [
    "# print confusion matrix and classification report\n",
    "mnb_pred_3 = cross_val_predict(mnb_tri, X_train_mnb_tri, y, cv=10)\n",
    "\n",
    "from sklearn.metrics import confusion_matrix\n",
    "cm=confusion_matrix(y, mnb_pred_3, labels=[1,2,3,4,5])\n",
    "print(cm)\n",
    "print()\n",
    "\n",
    "from sklearn.metrics import classification_report\n",
    "target_names = ['1','2','3','4','5']\n",
    "mnb_3_report= classification_report(y, mnb_pred_3, target_names=target_names)\n",
    "print(mnb_3_report)"
   ]
  },
  {
   "cell_type": "code",
   "execution_count": 176,
   "id": "0d514956",
   "metadata": {},
   "outputs": [],
   "source": [
    "mnb_f1_1_score_3 = float(mnb_3_report[94:98])\n",
    "mnb_f1_2_score_3 = float(mnb_3_report[148:152])\n",
    "mnb_f1_3_score_3 = float(mnb_3_report[202:206])\n",
    "mnb_f1_4_score_3 = float(mnb_3_report[256:260])\n",
    "mnb_f1_5_score_3 = float(mnb_3_report[310:314])"
   ]
  },
  {
   "cell_type": "markdown",
   "id": "f89f7a1a",
   "metadata": {},
   "source": [
    "## SVM Ngram"
   ]
  },
  {
   "cell_type": "code",
   "execution_count": 177,
   "id": "c2c2fc1a",
   "metadata": {},
   "outputs": [],
   "source": [
    "from sklearn.svm import LinearSVC\n",
    "from sklearn.svm import SVC\n",
    "# initialize the  model"
   ]
  },
  {
   "cell_type": "code",
   "execution_count": 178,
   "id": "a4704476",
   "metadata": {},
   "outputs": [],
   "source": [
    "from sklearn.feature_extraction.text import TfidfVectorizer\n",
    "ngram_tfidf_vectorizer_svm = TfidfVectorizer(encoding='latin-1'\n",
    "                                            , ngram_range=(1,2)\n",
    "                                            , use_idf=True\n",
    "                                            , max_df=.5\n",
    "                                            , max_features=10000\n",
    "                                            )"
   ]
  },
  {
   "cell_type": "code",
   "execution_count": 179,
   "id": "12899bae",
   "metadata": {},
   "outputs": [],
   "source": [
    "# fitting and transforming the training data using the count vectorizer\n",
    "X_train_svm_2 = ngram_tfidf_vectorizer_svm.fit_transform(X)"
   ]
  },
  {
   "cell_type": "code",
   "execution_count": 180,
   "id": "a162f6e5",
   "metadata": {},
   "outputs": [
    {
     "name": "stdout",
     "output_type": "stream",
     "text": [
      "0.5012\n"
     ]
    }
   ],
   "source": [
    "#svclin = SVC() \n",
    "svclin = LinearSVC(C=1)\n",
    "# use the training data to train the model\n",
    "#svm_model_2 = svm2.fit(X_train_svm_2,y)\n",
    "#cross validation score\n",
    "svm_cv_scores_2 = cross_val_score(svclin, X_train_svm_2, y, cv=10)\n",
    "#finding the overall average accuracy.\n",
    "svm_cv_score_2 = round(np.mean(svm_cv_scores_2),4)\n",
    "print(svm_cv_score_2)"
   ]
  },
  {
   "cell_type": "code",
   "execution_count": 181,
   "id": "370e7e08",
   "metadata": {},
   "outputs": [
    {
     "name": "stdout",
     "output_type": "stream",
     "text": [
      "[[1176  503  128   99   94]\n",
      " [ 598  741  348  207  106]\n",
      " [ 165  379  691  584  181]\n",
      " [  90  157  380 1431  942]\n",
      " [  69   46  119  791 1975]]\n",
      "\n",
      "              precision    recall  f1-score   support\n",
      "\n",
      "           1       0.56      0.59      0.57      2000\n",
      "           2       0.41      0.37      0.39      2000\n",
      "           3       0.41      0.35      0.38      2000\n",
      "           4       0.46      0.48      0.47      3000\n",
      "           5       0.60      0.66      0.63      3000\n",
      "\n",
      "    accuracy                           0.50     12000\n",
      "   macro avg       0.49      0.49      0.49     12000\n",
      "weighted avg       0.49      0.50      0.50     12000\n",
      "\n"
     ]
    }
   ],
   "source": [
    "# print confusion matrix and classification report\n",
    "svm_pred_2 = cross_val_predict(svclin, X_train_svm_2, y, cv=10)\n",
    "\n",
    "from sklearn.metrics import confusion_matrix\n",
    "cm=confusion_matrix(y, svm_pred_2, labels=[1,2,3,4,5])\n",
    "print(cm)\n",
    "print()\n",
    "\n",
    "from sklearn.metrics import classification_report\n",
    "target_names = ['1','2','3','4','5']\n",
    "svm_2_report= classification_report(y, svm_pred_2, target_names=target_names)\n",
    "print(svm_2_report)"
   ]
  },
  {
   "cell_type": "code",
   "execution_count": 182,
   "id": "b442d027",
   "metadata": {},
   "outputs": [],
   "source": [
    "svm_f1_1_score_2 = float(mnb_2_report[94:98])\n",
    "svm_f1_2_score_2 = float(mnb_2_report[148:152])\n",
    "svm_f1_3_score_2 = float(mnb_2_report[202:206])\n",
    "svm_f1_4_score_2 = float(mnb_2_report[256:260])\n",
    "svm_f1_5_score_2 = float(mnb_2_report[310:314])"
   ]
  },
  {
   "cell_type": "markdown",
   "id": "552af419",
   "metadata": {},
   "source": [
    "## SVC Ngram"
   ]
  },
  {
   "cell_type": "code",
   "execution_count": 183,
   "id": "297447f2",
   "metadata": {},
   "outputs": [],
   "source": [
    "from sklearn.svm import SVC\n",
    "# initialize the  model\n",
    "svc = SVC(C=1)\n",
    "svc_poly = SVC(C=10,kernel='poly')\n",
    "svc_sigmoid = SVC(C=1,kernel='sigmoid')"
   ]
  },
  {
   "cell_type": "code",
   "execution_count": 184,
   "id": "731ed3d0",
   "metadata": {},
   "outputs": [],
   "source": [
    "from sklearn.feature_extraction.text import TfidfVectorizer\n",
    "ngram_tfidf_vectorizer_svc = TfidfVectorizer(encoding='latin-1'\n",
    "                                                 , ngram_range=(1,2)\n",
    "                                                 , use_idf=True\n",
    "                                                 , min_df=5\n",
    "                                                 , max_features=3000\n",
    "                                            )"
   ]
  },
  {
   "cell_type": "code",
   "execution_count": 185,
   "id": "b27a8729",
   "metadata": {},
   "outputs": [],
   "source": [
    "# fitting and transforming the training data using the count vectorizer\n",
    "X_train_svc = ngram_tfidf_vectorizer_svc.fit_transform(X)"
   ]
  },
  {
   "cell_type": "code",
   "execution_count": 186,
   "id": "481a4bec",
   "metadata": {},
   "outputs": [
    {
     "name": "stdout",
     "output_type": "stream",
     "text": [
      "0.5198\n"
     ]
    }
   ],
   "source": [
    "# use the training data to train the model\n",
    "#svc_model_ = svc.fit(X_train_svc,y)\n",
    "#cross validation score\n",
    "svc_cv_scores = cross_val_score(svc, X_train_svc, y, cv=10)\n",
    "#finding the overall average accuracy.\n",
    "svc_cv_score = round(np.mean(svc_cv_scores),4)\n",
    "print(svc_cv_score)"
   ]
  },
  {
   "cell_type": "code",
   "execution_count": 187,
   "id": "4b15b09d",
   "metadata": {},
   "outputs": [
    {
     "name": "stdout",
     "output_type": "stream",
     "text": [
      "[[1157  532  105  102  104]\n",
      " [ 524  865  285  230   96]\n",
      " [ 128  422  559  711  180]\n",
      " [  64  131  296 1613  896]\n",
      " [  58   39   57  802 2044]]\n",
      "\n",
      "              precision    recall  f1-score   support\n",
      "\n",
      "           1       0.60      0.58      0.59      2000\n",
      "           2       0.43      0.43      0.43      2000\n",
      "           3       0.43      0.28      0.34      2000\n",
      "           4       0.47      0.54      0.50      3000\n",
      "           5       0.62      0.68      0.65      3000\n",
      "\n",
      "    accuracy                           0.52     12000\n",
      "   macro avg       0.51      0.50      0.50     12000\n",
      "weighted avg       0.51      0.52      0.51     12000\n",
      "\n"
     ]
    }
   ],
   "source": [
    "# print confusion matrix and classification report\n",
    "svc_pred = cross_val_predict(svc, X_train_svc, y, cv=10)\n",
    "\n",
    "from sklearn.metrics import confusion_matrix\n",
    "cm=confusion_matrix(y, svc_pred, labels=[1,2,3,4,5])\n",
    "print(cm)\n",
    "print()\n",
    "\n",
    "from sklearn.metrics import classification_report\n",
    "target_names = ['1','2','3','4','5']\n",
    "svc_report= classification_report(y, svc_pred, target_names=target_names)\n",
    "print(svc_report)"
   ]
  },
  {
   "cell_type": "code",
   "execution_count": 188,
   "id": "403ad5ad",
   "metadata": {},
   "outputs": [],
   "source": [
    "svc_f1_1_score_2 = float(svc_report[94:98])\n",
    "svc_f1_2_score_2 = float(svc_report[148:152])\n",
    "svc_f1_3_score_2 = float(svc_report[202:206])\n",
    "svc_f1_4_score_2 = float(svc_report[256:260])\n",
    "svc_f1_5_score_2 = float(svc_report[310:314])"
   ]
  },
  {
   "cell_type": "code",
   "execution_count": 189,
   "id": "459d6ab5",
   "metadata": {},
   "outputs": [
    {
     "name": "stdout",
     "output_type": "stream",
     "text": [
      "0.4867\n"
     ]
    }
   ],
   "source": [
    "# use the training data to train the model\n",
    "#svc_model_poly = svc_poly.fit(X_train_svc,y)\n",
    "#cross validation score\n",
    "svc_cv_scores_poly = cross_val_score(svc_poly, X_train_svc, y, cv=10)\n",
    "#finding the overall average accuracy.\n",
    "svc_cv_score_poly = round(np.mean(svc_cv_scores_poly),4)\n",
    "print(svc_cv_score_poly)"
   ]
  },
  {
   "cell_type": "code",
   "execution_count": 190,
   "id": "5bbd4175",
   "metadata": {},
   "outputs": [
    {
     "name": "stdout",
     "output_type": "stream",
     "text": [
      "[[ 988  368   47  300  297]\n",
      " [ 418  626  168  517  271]\n",
      " [ 101  282  334  979  304]\n",
      " [  31   60  152 1726 1031]\n",
      " [  25   19   24  766 2166]]\n",
      "\n",
      "              precision    recall  f1-score   support\n",
      "\n",
      "           1       0.63      0.49      0.55      2000\n",
      "           2       0.46      0.31      0.37      2000\n",
      "           3       0.46      0.17      0.25      2000\n",
      "           4       0.40      0.58      0.47      3000\n",
      "           5       0.53      0.72      0.61      3000\n",
      "\n",
      "    accuracy                           0.49     12000\n",
      "   macro avg       0.50      0.45      0.45     12000\n",
      "weighted avg       0.49      0.49      0.47     12000\n",
      "\n"
     ]
    }
   ],
   "source": [
    "# print confusion matrix and classification report\n",
    "svc_poly_pred = cross_val_predict(svc_poly, X_train_svc, y, cv=10)\n",
    "\n",
    "from sklearn.metrics import confusion_matrix\n",
    "cm=confusion_matrix(y, svc_poly_pred, labels=[1,2,3,4,5])\n",
    "print(cm)\n",
    "print()\n",
    "\n",
    "from sklearn.metrics import classification_report\n",
    "target_names = ['1','2','3','4','5']\n",
    "svc_poly_report= classification_report(y, svc_poly_pred, target_names=target_names)\n",
    "print(svc_poly_report)"
   ]
  },
  {
   "cell_type": "code",
   "execution_count": 191,
   "id": "61456f7b",
   "metadata": {},
   "outputs": [],
   "source": [
    "svc_poly_f1_1_score_2 = float(svc_poly_report[94:98])\n",
    "svc_poly_f1_2_score_2 = float(svc_poly_report[148:152])\n",
    "svc_poly_f1_3_score_2 = float(svc_poly_report[202:206])\n",
    "svc_poly_f1_4_score_2 = float(svc_poly_report[256:260])\n",
    "svc_poly_f1_5_score_2 = float(svc_poly_report[310:314])"
   ]
  },
  {
   "cell_type": "code",
   "execution_count": 192,
   "id": "c41024ed",
   "metadata": {},
   "outputs": [
    {
     "name": "stdout",
     "output_type": "stream",
     "text": [
      "0.5094\n"
     ]
    }
   ],
   "source": [
    "# use the training data to train the model\n",
    "#svc_model_sigmoid = svc_sigmoid.fit(X_train_svc,y)\n",
    "#cross validation score\n",
    "svc_cv_scores_sigmoid = cross_val_score(svc_sigmoid, X_train_svc, y, cv=10)\n",
    "#finding the overall average accuracy.\n",
    "svc_cv_score_sigmoid = round(np.mean(svc_cv_scores_sigmoid),4)\n",
    "print(svc_cv_score_sigmoid)"
   ]
  },
  {
   "cell_type": "code",
   "execution_count": 193,
   "id": "07fb03e0",
   "metadata": {},
   "outputs": [
    {
     "name": "stdout",
     "output_type": "stream",
     "text": [
      "[[1151  553  122   92   82]\n",
      " [ 573  846  317  185   79]\n",
      " [ 156  421  639  627  157]\n",
      " [  73  163  370 1500  894]\n",
      " [  75   50  112  786 1977]]\n",
      "\n",
      "              precision    recall  f1-score   support\n",
      "\n",
      "           1       0.57      0.58      0.57      2000\n",
      "           2       0.42      0.42      0.42      2000\n",
      "           3       0.41      0.32      0.36      2000\n",
      "           4       0.47      0.50      0.48      3000\n",
      "           5       0.62      0.66      0.64      3000\n",
      "\n",
      "    accuracy                           0.51     12000\n",
      "   macro avg       0.50      0.50      0.49     12000\n",
      "weighted avg       0.50      0.51      0.51     12000\n",
      "\n"
     ]
    }
   ],
   "source": [
    "# print confusion matrix and classification report\n",
    "svc_sigmoid_pred = cross_val_predict(svc_sigmoid, X_train_svc, y, cv=10)\n",
    "\n",
    "from sklearn.metrics import confusion_matrix\n",
    "cm=confusion_matrix(y, svc_sigmoid_pred, labels=[1,2,3,4,5])\n",
    "print(cm)\n",
    "print()\n",
    "\n",
    "from sklearn.metrics import classification_report\n",
    "target_names = ['1','2','3','4','5']\n",
    "svc_sigmoid_report= classification_report(y, svc_sigmoid_pred, target_names=target_names)\n",
    "print(svc_sigmoid_report)"
   ]
  },
  {
   "cell_type": "code",
   "execution_count": 194,
   "id": "b732ddaf",
   "metadata": {},
   "outputs": [],
   "source": [
    "svc_sigmoid_f1_1_score_2 = float(svc_sigmoid_report[94:98])\n",
    "svc_sigmoid_f1_2_score_2 = float(svc_sigmoid_report[148:152])\n",
    "svc_sigmoid_f1_3_score_2 = float(svc_sigmoid_report[202:206])\n",
    "svc_sigmoid_f1_4_score_2 = float(svc_sigmoid_report[256:260])\n",
    "svc_sigmoid_f1_5_score_2 = float(svc_sigmoid_report[310:314])"
   ]
  },
  {
   "cell_type": "markdown",
   "id": "41fc35ef",
   "metadata": {},
   "source": [
    "## Accuracy Compare"
   ]
  },
  {
   "cell_type": "code",
   "execution_count": 1,
   "id": "2cde729b",
   "metadata": {},
   "outputs": [],
   "source": [
    "acclist={'NLTK MNB':0.494\n",
    "         ,'Sklearn MNB':0.503\n",
    "         ,'NLTK Bigrams':0.4946\n",
    "         ,'Sklearn unigrams + bigrams':0.5136\n",
    "         ,'Sklearn Unigram + Stemming':0.4969\n",
    "         ,'Sklearn Unigram, Bigrams, and Trigrams':0.51\n",
    "         ,'Linear SVM':0.501\n",
    "         ,'SVC RBF':0.5014\n",
    "         ,'SVC Poly':0.4143\n",
    "         ,'SVC Sigmoid':0.491\n",
    "         }"
   ]
  },
  {
   "cell_type": "code",
   "execution_count": 2,
   "id": "eefac42d",
   "metadata": {
    "scrolled": true
   },
   "outputs": [
    {
     "data": {
      "image/png": "[encoded data removed]",
      "text/plain": [
       "<Figure size 4320x576 with 1 Axes>"
      ]
     },
     "metadata": {
      "needs_background": "light"
     },
     "output_type": "display_data"
    }
   ],
   "source": [
    "import matplotlib.pyplot as plt\n",
    "\n",
    "# function to add value labels\n",
    "def addlabels(y):\n",
    "    for i in range(len(y)):\n",
    "        plt.text(i,y[i],y[i],fontweight = 'bold')\n",
    "\n",
    "\n",
    "values = list(acclist.values())\n",
    "names = list(acclist.keys())\n",
    "colors = ['red','green','blue','orange','yellow','purple','tomato','cyan','gray','brown'\n",
    "]\n",
    "plt.figure(figsize=(60, 8))\n",
    "\n",
    "plt.subplot(121)\n",
    "plt.bar(names\n",
    "        ,values\n",
    "        ,color= colors\n",
    "       )\n",
    "\n",
    "plt.xticks(rotation= 45)\n",
    "plt.ylabel('Percent')\n",
    "plt.xlabel('Model')\n",
    "plt.title('Accuracy')\n",
    "\n",
    "addlabels(values)\n",
    "plt.show()"
   ]
  },
  {
   "cell_type": "markdown",
   "id": "3a48dbe8",
   "metadata": {},
   "source": [
    "## F1_score Compare"
   ]
  },
  {
   "cell_type": "code",
   "execution_count": 197,
   "id": "b56022db",
   "metadata": {},
   "outputs": [],
   "source": [
    "\n",
    "f1list={'mnb_f1_1_score_fs':mnb_f1_1_score_fs \n",
    "         ,'mnb_f1_2_score_fs':mnb_f1_2_score_fs \n",
    "         ,'mnb_f1_3_score_fs':mnb_f1_3_score_fs \n",
    "         ,'mnb_f1_4_score_fs':mnb_f1_4_score_fs \n",
    "         ,'mnb_f1_5_score_fs':mnb_f1_5_score_fs\n",
    "        \n",
    "         ,'mnb_f1_1_score':mnb_f1_1_score\n",
    "         ,'mnb_f1_2_score':mnb_f1_2_score\n",
    "         ,'mnb_f1_3_score':mnb_f1_3_score\n",
    "         ,'mnb_f1_4_score':mnb_f1_4_score\n",
    "         ,'mnb_f1_5_score':mnb_f1_5_score\n",
    "        \n",
    "         ,'mnb_f1_1_score_bifs':mnb_f1_1_score_bifs\n",
    "         ,'mnb_f1_2_score_bifs':mnb_f1_2_score_bifs\n",
    "         ,'mnb_f1_3_score_bifs':mnb_f1_3_score_bifs\n",
    "         ,'mnb_f1_4_score_bifs':mnb_f1_4_score_bifs\n",
    "         ,'mnb_f1_5_score_bifs':mnb_f1_5_score_bifs\n",
    "        \n",
    "         ,'mnb_f1_1_score_2':mnb_f1_1_score_2\n",
    "         ,'mnb_f1_2_score_2':mnb_f1_2_score_2\n",
    "         ,'mnb_f1_3_score_2':mnb_f1_3_score_2\n",
    "         ,'mnb_f1_4_score_2':mnb_f1_4_score_2\n",
    "         ,'mnb_f1_5_score_2':mnb_f1_5_score_2\n",
    "        \n",
    "         ,'mnb_stem_f1_1_score':mnb_stem_f1_1_score\n",
    "         ,'mnb_stem_f1_2_score':mnb_stem_f1_2_score\n",
    "         ,'mnb_stem_f1_3_score':mnb_stem_f1_3_score\n",
    "         ,'mnb_stem_f1_4_score':mnb_stem_f1_4_score\n",
    "         ,'mnb_stem_f1_5_score':mnb_stem_f1_5_score\n",
    "        \n",
    "         ,'mnb_f1_1_score_3':mnb_f1_1_score_3 \n",
    "         ,'mnb_f1_2_score_3':mnb_f1_2_score_3\n",
    "         ,'mnb_f1_3_score_3':mnb_f1_3_score_3 \n",
    "         ,'mnb_f1_4_score_3':mnb_f1_4_score_3\n",
    "         ,'mnb_f1_5_score_3':mnb_f1_5_score_3\n",
    "         \n",
    "         ,'svm_f1_1_score_2':svm_f1_1_score_2\n",
    "         ,'svm_f1_2_score_2':svm_f1_2_score_2\n",
    "         ,'svm_f1_3_score_2':svm_f1_3_score_2\n",
    "         ,'svm_f1_4_score_2':svm_f1_4_score_2\n",
    "         ,'svm_f1_5_score_2':svm_f1_5_score_2\n",
    "        \n",
    "         ,'svc_f1_1_score_2':svc_f1_1_score_2\n",
    "         ,'svc_f1_2_score_2':svc_f1_2_score_2\n",
    "         ,'svc_f1_3_score_2':svc_f1_3_score_2\n",
    "         ,'svc_f1_4_score_2':svc_f1_4_score_2\n",
    "         ,'svc_f1_5_score_2':svc_f1_5_score_2\n",
    "        \n",
    "         ,'svc_poly_f1_1_score_2':svc_poly_f1_1_score_2\n",
    "         ,'svc_poly_f1_2_score_2':svc_poly_f1_2_score_2\n",
    "         ,'svc_poly_f1_3_score_2':svc_poly_f1_3_score_2\n",
    "         ,'svc_poly_f1_4_score_2':svc_poly_f1_4_score_2\n",
    "         ,'svc_poly_f1_5_score_2':svc_poly_f1_5_score_2\n",
    "        \n",
    "         ,'svc_sigmoid_f1_1_score_2':svc_sigmoid_f1_1_score_2\n",
    "         ,'svc_sigmoid_f1_2_score_2':svc_sigmoid_f1_2_score_2\n",
    "         ,'svc_sigmoid_f1_3_score_2':svc_sigmoid_f1_3_score_2\n",
    "         ,'svc_sigmoid_f1_4_score_2':svc_sigmoid_f1_4_score_2\n",
    "         ,'svc_sigmoid_f1_5_score_2':svc_sigmoid_f1_5_score_2\n",
    "    }"
   ]
  },
  {
   "cell_type": "code",
   "execution_count": 198,
   "id": "de3825cd",
   "metadata": {},
   "outputs": [
    {
     "data": {
      "image/png": "[encoded data removed]",
      "text/plain": [
       "<Figure size 5760x1224 with 1 Axes>"
      ]
     },
     "metadata": {
      "needs_background": "light"
     },
     "output_type": "display_data"
    }
   ],
   "source": [
    "import matplotlib.pyplot as plt\n",
    "import matplotlib.patches as mpatches\n",
    "# function to add value labels\n",
    "def addlabels(y):\n",
    "    for i in range(len(y)):\n",
    "        plt.text(i,y[i],y[i],fontweight = 'bold')\n",
    "\n",
    "\n",
    "values = list(f1list.values())\n",
    "names = list(f1list.keys())\n",
    "colors = ['red','red','red','red','red'\n",
    "          ,'green','green','green','green','green'\n",
    "          ,'blue','blue','blue','blue','blue'\n",
    "          ,'orange','orange','orange','orange','orange'\n",
    "          ,'yellow','yellow','yellow','yellow','yellow'\n",
    "          ,'purple','purple','purple','purple','purple'\n",
    "          ,'tomato','tomato','tomato','tomato','tomato'\n",
    "          ,'cyan','cyan','cyan','cyan','cyan'\n",
    "          ,'gray','gray','gray','gray','gray'\n",
    "          ,'brown','brown','brown','brown','brown'\n",
    "]\n",
    "plt.figure(figsize=(80, 17))\n",
    "\n",
    "plt.subplot(121)\n",
    "plt.bar(names\n",
    "        ,values\n",
    "        ,color= colors\n",
    "       )\n",
    "plt.xticks(rotation= 45)\n",
    "#plt.show()\n",
    "# legend manually added\n",
    "l1 = mpatches.Patch(color='red', label='NLTK MNB')\n",
    "l2 = mpatches.Patch(color='green', label='Sklearn MNB')\n",
    "l3 = mpatches.Patch(color='blue', label='NLTK Bigrams')\n",
    "l4 = mpatches.Patch(color='orange', label='Sklearn unigrams + bigrams')\n",
    "l5 = mpatches.Patch(color='yellow', label='Sklearn Unigram + Stemming')\n",
    "l6 = mpatches.Patch(color='purple', label='Sklearn Unigram, Bigrams, and Trigrams')\n",
    "l7 = mpatches.Patch(color='tomato', label='Linear SVM')\n",
    "l8 = mpatches.Patch(color='cyan', label='SVC(RBF)')\n",
    "l9 = mpatches.Patch(color='gray', label='SVC(Poly)')\n",
    "l10 = mpatches.Patch(color='brown', label='SVC(Sigmoid)')\n",
    "\n",
    "\n",
    "\n",
    "\n",
    "plt.ylabel('Percent')\n",
    "plt.xlabel('Model')\n",
    "plt.title('Accuracy')\n",
    "\n",
    "addlabels(values)\n",
    "plt.legend(handles=[l1, l2, l3,l4,l5,l6,l7,l8,l9,l10], loc=4)\n",
    "plt.show()"
   ]
  }
 ],
 "metadata": {
  "kernelspec": {
   "display_name": "Python 3 (ipykernel)",
   "language": "python",
   "name": "python3"
  },
  "language_info": {
   "codemirror_mode": {
    "name": "ipython",
    "version": 3
   },
   "file_extension": ".py",
   "mimetype": "text/x-python",
   "name": "python",
   "nbconvert_exporter": "python",
   "pygments_lexer": "ipython3",
   "version": "3.8.8"
  }
 },
 "nbformat": 4,
 "nbformat_minor": 5
}
