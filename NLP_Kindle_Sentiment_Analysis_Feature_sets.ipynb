{
 "cells": [
  {
   "cell_type": "markdown",
   "id": "820fe848",
   "metadata": {},
   "source": [
    "## Input"
   ]
  },
  {
   "cell_type": "code",
   "execution_count": 76,
   "id": "a93a9818",
   "metadata": {},
   "outputs": [],
   "source": [
    "import pandas as pd\n",
    "df = pd.read_csv(r'C:\\Users\\Morga\\programsMG\\NaturalLanguageProcessing\\preprocessed_kindle_review.csv')"
   ]
  },
  {
   "cell_type": "markdown",
   "id": "c71d4999",
   "metadata": {},
   "source": [
    " ## Preprocessing"
   ]
  },
  {
   "cell_type": "code",
   "execution_count": 77,
   "id": "729cb671",
   "metadata": {},
   "outputs": [],
   "source": [
    "M = df['reviewText'].tolist()\n",
    "y = df['rating'].tolist()"
   ]
  },
  {
   "cell_type": "code",
   "execution_count": 78,
   "id": "5969ef4c",
   "metadata": {},
   "outputs": [],
   "source": [
    "import re\n",
    "X=[]\n",
    "for item in M:\n",
    "    X.append(re.sub(r'([a-zA-Z0-9_<>-])\\1+', r'\\1\\1', item))"
   ]
  },
  {
   "cell_type": "markdown",
   "id": "c7d0373d",
   "metadata": {},
   "source": [
    "## Vectorization"
   ]
  },
  {
   "cell_type": "code",
   "execution_count": 79,
   "id": "2ca96a18",
   "metadata": {},
   "outputs": [],
   "source": [
    "from nltk.tokenize import word_tokenize \n",
    "\n",
    "textdocuments=[]\n",
    "for item in X:\n",
    "    x = word_tokenize(item)\n",
    "    textdocuments.append(x)  "
   ]
  },
  {
   "cell_type": "code",
   "execution_count": 80,
   "id": "c66736ff",
   "metadata": {},
   "outputs": [],
   "source": [
    "def merge(list1, list2):\n",
    "    merged_list = [(list1 [i], list2 [i]) for i in range (0, len(list1))]\n",
    "    return merged_list"
   ]
  },
  {
   "cell_type": "code",
   "execution_count": 81,
   "id": "a7d26183",
   "metadata": {},
   "outputs": [],
   "source": [
    "documents = merge(textdocuments,y) "
   ]
  },
  {
   "cell_type": "markdown",
   "id": "f1530af0",
   "metadata": {},
   "source": [
    "## Original bigram mnb model"
   ]
  },
  {
   "cell_type": "code",
   "execution_count": 82,
   "id": "7e980bdb",
   "metadata": {},
   "outputs": [],
   "source": [
    "bigram_featuresets_df = pd.read_csv(r'C:\\Users\\Morga\\programsMG\\NaturalLanguageProcessing\\bigram_featuresets.csv')"
   ]
  },
  {
   "cell_type": "code",
   "execution_count": 83,
   "id": "36fdb0c4",
   "metadata": {},
   "outputs": [],
   "source": [
    "X_bifs=bigram_featuresets_df.drop('class',axis=1)"
   ]
  },
  {
   "cell_type": "code",
   "execution_count": 84,
   "id": "13f7844f",
   "metadata": {},
   "outputs": [],
   "source": [
    "# import the module\n",
    "from sklearn.naive_bayes import MultinomialNB\n",
    "from sklearn.model_selection import cross_val_score\n",
    "import numpy as np\n",
    "# initialize the model\n",
    "mnb1_bifs = MultinomialNB()"
   ]
  },
  {
   "cell_type": "code",
   "execution_count": 85,
   "id": "fb8beceb",
   "metadata": {},
   "outputs": [
    {
     "name": "stdout",
     "output_type": "stream",
     "text": [
      "0.4946\n"
     ]
    }
   ],
   "source": [
    "# use the training data to train the model\n",
    "mnb_model_bifs = mnb1_bifs.fit(X_bifs,y)\n",
    "#cross validation score\n",
    "mnb_cv_scores_bifs = cross_val_score(mnb1_bifs, X_bifs, y, cv=10)\n",
    "#finding the overall average accuracy.\n",
    "mnb_cv_score_bifs = round(np.mean(mnb_cv_scores_bifs),4)\n",
    "print(mnb_cv_score_bifs)"
   ]
  },
  {
   "cell_type": "markdown",
   "id": "750990ea",
   "metadata": {},
   "source": [
    "## Original Ngram mnb model"
   ]
  },
  {
   "cell_type": "code",
   "execution_count": 86,
   "id": "ffbf3352",
   "metadata": {},
   "outputs": [],
   "source": [
    "\n",
    "# initialize the  model\n",
    "mnb2 = MultinomialNB()"
   ]
  },
  {
   "cell_type": "code",
   "execution_count": 87,
   "id": "e0d2deff",
   "metadata": {},
   "outputs": [],
   "source": [
    "from sklearn.feature_extraction.text import TfidfVectorizer\n",
    "ngram_tfidf_vectorizer_mnb = TfidfVectorizer(encoding='latin-1'\n",
    "                                                 ,ngram_range=(1,2)\n",
    "                                                 , use_idf=True\n",
    "                                                 , min_df=5\n",
    "                                                 , max_features=3000\n",
    "                                                )"
   ]
  },
  {
   "cell_type": "code",
   "execution_count": 88,
   "id": "848456f8",
   "metadata": {},
   "outputs": [],
   "source": [
    "# fitting and transforming the training data using the count vectorizer\n",
    "X_train_mnb_2 = ngram_tfidf_vectorizer_mnb.fit_transform(X)"
   ]
  },
  {
   "cell_type": "code",
   "execution_count": 89,
   "id": "674ee486",
   "metadata": {},
   "outputs": [
    {
     "name": "stdout",
     "output_type": "stream",
     "text": [
      "0.5136\n"
     ]
    }
   ],
   "source": [
    "# use the training data to train the model\n",
    "#mnb_model_2 = mnb2.fit(X_train_mnb_2,y)\n",
    "#cross validation score\n",
    "mnb_cv_scores_2 = cross_val_score(mnb2, X_train_mnb_2, y, cv=10)\n",
    "#finding the overall average accuracy.\n",
    "mnb_cv_score_2 = round(np.mean(mnb_cv_scores_2),4)\n",
    "print(mnb_cv_score_2)"
   ]
  },
  {
   "cell_type": "markdown",
   "id": "33e8c93f",
   "metadata": {},
   "source": [
    "## Vader"
   ]
  },
  {
   "cell_type": "code",
   "execution_count": 90,
   "id": "60079b31",
   "metadata": {},
   "outputs": [],
   "source": [
    "from vaderSentiment.vaderSentiment import SentimentIntensityAnalyzer\n",
    "analyzer = SentimentIntensityAnalyzer()\n",
    "#setting an empty list to save the compound scores into.\n",
    "vs_list_compound = [] \n",
    "#Looping through to get a compound score for each tweet saving it into the compund list created.\n",
    "for review in X:\n",
    "    vs = analyzer.polarity_scores(review)\n",
    "    vs_list = vs['compound']\n",
    "    vs_list_compound.append(vs_list) \n",
    "    "
   ]
  },
  {
   "cell_type": "code",
   "execution_count": 91,
   "id": "56ff5cf9",
   "metadata": {},
   "outputs": [],
   "source": [
    "import numpy as np\n",
    "sent_array = np.asarray(vs_list_compound)\n",
    "sent_norm = (sent_array - sent_array.min())/ (sent_array.max() - sent_array.min())"
   ]
  },
  {
   "cell_type": "markdown",
   "id": "3fc0954e",
   "metadata": {},
   "source": [
    "## subjectivity"
   ]
  },
  {
   "cell_type": "code",
   "execution_count": 92,
   "id": "f51ed464",
   "metadata": {},
   "outputs": [],
   "source": [
    "SLpath = r\"C:\\Users\\Morga\\programsMG\\NaturalLanguageProcessing\\subjclueslen1-HLTEMNLP05.tff\""
   ]
  },
  {
   "cell_type": "code",
   "execution_count": 93,
   "id": "afe2259e",
   "metadata": {},
   "outputs": [],
   "source": [
    "# this function returns a dictionary where you can look up words and get back \n",
    "#     the four items of subjectivity information described above\n",
    "def readSubjectivity(path):\n",
    "    flexicon = open(path, 'r')\n",
    "    # initialize an empty dictionary\n",
    "    sldict = { }\n",
    "    for line in flexicon:\n",
    "        fields = line.split()   # default is to split on whitespace\n",
    "        # split each field on the '=' and keep the second part as the value\n",
    "        strength = fields[0].split(\"=\")[1]\n",
    "        word = fields[2].split(\"=\")[1]\n",
    "        posTag = fields[3].split(\"=\")[1]\n",
    "        stemmed = fields[4].split(\"=\")[1]\n",
    "        polarity = fields[5].split(\"=\")[1]\n",
    "        if (stemmed == 'y'):\n",
    "            isStemmed = True\n",
    "        else:\n",
    "            isStemmed = False\n",
    "        # put a dictionary entry with the word as the keyword\n",
    "        #     and a list of the other values\n",
    "        sldict[word] = [strength, posTag, isStemmed, polarity]\n",
    "    return sldict"
   ]
  },
  {
   "cell_type": "code",
   "execution_count": 94,
   "id": "8b41f6b7",
   "metadata": {},
   "outputs": [],
   "source": [
    "# or copy the readSubjectivity function into your session and cal the fn\n",
    "SL = readSubjectivity(SLpath)"
   ]
  },
  {
   "cell_type": "code",
   "execution_count": 95,
   "id": "ec4b19fd",
   "metadata": {},
   "outputs": [],
   "source": [
    "# creating a list with just the words\n",
    "document_words=[]\n",
    "for (d, c) in documents:\n",
    "    document_words.append(d)"
   ]
  },
  {
   "cell_type": "code",
   "execution_count": 96,
   "id": "b2bfca4e",
   "metadata": {},
   "outputs": [],
   "source": [
    "# placing count for positive and one for neg\n",
    "# done for each review \n",
    "pos_count = []\n",
    "neg_count =[]\n",
    "for review in document_words:\n",
    "    temp_pos = []\n",
    "    temp_neg =[]\n",
    "    for token in review:\n",
    "        weakPos = 0\n",
    "        strongPos = 0\n",
    "        weakNeg = 0\n",
    "        strongNeg = 0\n",
    "        if token in SL:\n",
    "            strength, posTag, isStemmed, polarity = SL[token]\n",
    "            if strength == 'weaksubj' and polarity == 'positive':\n",
    "                weakPos += 1\n",
    "            if strength == 'strongsubj' and polarity == 'positive':\n",
    "                strongPos += 1\n",
    "            if strength == 'weaksubj' and polarity == 'negative':\n",
    "                weakNeg += 1\n",
    "            if strength == 'strongsubj' and polarity == 'negative':\n",
    "                strongNeg += 1\n",
    "            temp_pos.append(weakPos + (2 * strongPos))\n",
    "            temp_neg.append(weakNeg + (2 * strongNeg))            \n",
    "    pos_count.append(sum(temp_pos))\n",
    "    neg_count.append(sum(temp_neg))"
   ]
  },
  {
   "cell_type": "code",
   "execution_count": 97,
   "id": "40d77098",
   "metadata": {},
   "outputs": [],
   "source": [
    "import numpy as np\n",
    "pos_array = np.asarray(pos_count)\n",
    "pos_norm = (pos_array - pos_array.min())/ (pos_array.max() - pos_array.min())"
   ]
  },
  {
   "cell_type": "code",
   "execution_count": 98,
   "id": "bb42549f",
   "metadata": {},
   "outputs": [],
   "source": [
    "import numpy as np\n",
    "neg_array = np.asarray(neg_count)\n",
    "neg_norm = (neg_array - neg_array.min())/ (neg_array.max() - neg_array.min())"
   ]
  },
  {
   "cell_type": "markdown",
   "id": "73d62770",
   "metadata": {},
   "source": [
    "## Sentences count"
   ]
  },
  {
   "cell_type": "code",
   "execution_count": 99,
   "id": "1ee24b42",
   "metadata": {},
   "outputs": [],
   "source": [
    "from nltk import sent_tokenize\n",
    "#creating a list of each review's sentences \n",
    "#the sentence are each a token\n",
    "sentences=[]\n",
    "for review in X:\n",
    "    sentences.append(sent_tokenize(review))"
   ]
  },
  {
   "cell_type": "code",
   "execution_count": 100,
   "id": "fcb357c2",
   "metadata": {},
   "outputs": [],
   "source": [
    "sentences_count =[]\n",
    "# appending a count for each token\n",
    "for review in sentences:\n",
    "    count =0\n",
    "    for sent in review:\n",
    "        count=count+1\n",
    "    sentences_count.append(count)"
   ]
  },
  {
   "cell_type": "code",
   "execution_count": 101,
   "id": "d5c3f5c5",
   "metadata": {},
   "outputs": [],
   "source": [
    "sentences_array = np.asarray(sentences_count)\n",
    "sentences_norm = (sentences_array - sentences_array.min())/ (sentences_array.max() - sentences_array.min())"
   ]
  },
  {
   "cell_type": "markdown",
   "id": "11254c12",
   "metadata": {},
   "source": [
    "## word count"
   ]
  },
  {
   "cell_type": "code",
   "execution_count": 102,
   "id": "e5d380c2",
   "metadata": {},
   "outputs": [],
   "source": [
    "from nltk import word_tokenize\n",
    "words=[]\n",
    "for review in X:\n",
    "    words.append(word_tokenize(review))"
   ]
  },
  {
   "cell_type": "code",
   "execution_count": 103,
   "id": "b2618fcf",
   "metadata": {},
   "outputs": [],
   "source": [
    "word_count =[]\n",
    "for review in words:\n",
    "    count =0\n",
    "    for word in review:\n",
    "        count=count+1\n",
    "    word_count.append(count)"
   ]
  },
  {
   "cell_type": "code",
   "execution_count": 104,
   "id": "6dcf9cbe",
   "metadata": {},
   "outputs": [],
   "source": [
    "word_array = np.asarray(word_count)\n",
    "word_norm = (word_array - word_array.min())/ (word_array.max() - word_array.min())"
   ]
  },
  {
   "cell_type": "markdown",
   "id": "6812a062",
   "metadata": {},
   "source": [
    "## POS tag counts"
   ]
  },
  {
   "cell_type": "code",
   "execution_count": 105,
   "id": "ab70bb40",
   "metadata": {},
   "outputs": [],
   "source": [
    "# this function takes a document list of words and returns a feature dictionary\n",
    "# it runs the default pos tagger (the Stanford tagger) on the document\n",
    "#   and counts 4 types of pos tags to use as features\n",
    "def POS_features(document, word_features):\n",
    "    document_words = set(document)\n",
    "    tagged_words = nltk.pos_tag(document)\n",
    "    features = {}\n",
    "    for word in word_features:\n",
    "        features['contains({})'.format(word)] = (word in document_words)\n",
    "    numNoun = 0\n",
    "    numVerb = 0\n",
    "    numAdj = 0\n",
    "    numAdverb = 0\n",
    "    for (word, tag) in tagged_words:\n",
    "        if tag.startswith('N'): numNoun += 1\n",
    "        if tag.startswith('V'): numVerb += 1\n",
    "        if tag.startswith('J'): numAdj += 1\n",
    "        if tag.startswith('R'): numAdverb += 1\n",
    "    features['nouns'] = numNoun\n",
    "    features['verbs'] = numVerb\n",
    "    features['adjectives'] = numAdj\n",
    "    features['adverbs'] = numAdverb\n",
    "    return features"
   ]
  },
  {
   "cell_type": "code",
   "execution_count": 106,
   "id": "0b71464e",
   "metadata": {},
   "outputs": [
    {
     "name": "stdout",
     "output_type": "stream",
     "text": [
      "['.', 'the', ',', 'and', 'to', 'a', 'I', 'of', 'is', 'it', 'was', 'in', 'that', 'this', 'for', 'book', \"'s\", 'but', \"n't\", 'with', 'her', 'story', 'not', 'read', 'have', 'The', 'you', 'as', 'she', 'be', 'on', '!', 'are', 'he', 'his', 'one', 'just', 'so', 'like', 'more', 'me', 'they', 'all', 'It', 'did', 'would', 'about', 'at', 'This', 'from']\n"
     ]
    }
   ],
   "source": [
    "import nltk\n",
    "# get all words from all movie_reviews and put into a frequency distribution\n",
    "#   note lowercase, but no stemming or stopwords\n",
    "all_words_list = [word for (sent,cat) in documents for word in sent]\n",
    "all_words = nltk.FreqDist(all_words_list)\n",
    "# get the 2000 most frequently appearing keywords in the corpus\n",
    "word_items = all_words.most_common(2000)\n",
    "word_features = [word for (word,count) in word_items]\n",
    "print(word_features[:50])"
   ]
  },
  {
   "cell_type": "code",
   "execution_count": 107,
   "id": "09611b31",
   "metadata": {},
   "outputs": [],
   "source": [
    "# using the funtion to create a list of dictionaries\n",
    "POS_featuresets = [POS_features(d, word_features) for (d, c) in documents]"
   ]
  },
  {
   "cell_type": "code",
   "execution_count": 108,
   "id": "8f1ea70b",
   "metadata": {},
   "outputs": [],
   "source": [
    "# Creating a data frame from the list of dicts\n",
    "POS_featuresets_df = pd.DataFrame(POS_featuresets)"
   ]
  },
  {
   "cell_type": "code",
   "execution_count": 109,
   "id": "3a458f48",
   "metadata": {},
   "outputs": [],
   "source": [
    "nouns_count=POS_featuresets_df['nouns'].tolist()\n",
    "verbs_count=POS_featuresets_df['verbs'].tolist()\n",
    "adjectives_count=POS_featuresets_df['adjectives'].tolist()\n",
    "adverbs_count=POS_featuresets_df['adverbs'].tolist()"
   ]
  },
  {
   "cell_type": "code",
   "execution_count": 110,
   "id": "a1afd969",
   "metadata": {},
   "outputs": [],
   "source": [
    "nouns_count_array = np.asarray(nouns_count)\n",
    "nouns_count_norm = (nouns_count_array - nouns_count_array.min())/ (nouns_count_array.max() - nouns_count_array.min())\n",
    "\n",
    "verbs_count_array = np.asarray(verbs_count)\n",
    "verbs_count_norm = (verbs_count_array - verbs_count_array.min())/ (verbs_count_array.max() - verbs_count_array.min())\n",
    "\n",
    "adjectives_count_array = np.asarray(adjectives_count)\n",
    "adjectives_count_norm = (adjectives_count_array - adjectives_count_array.min())/ (adjectives_count_array.max() - adjectives_count_array.min())\n",
    "\n",
    "adverbs_count_array = np.asarray(adverbs_count)\n",
    "adverbs_count_norm = (adverbs_count_array - adverbs_count_array.min())/ (adverbs_count_array.max() - adverbs_count_array.min())"
   ]
  },
  {
   "cell_type": "markdown",
   "id": "edd60d79",
   "metadata": {},
   "source": [
    "## Negation"
   ]
  },
  {
   "cell_type": "code",
   "execution_count": 111,
   "id": "69135661",
   "metadata": {},
   "outputs": [],
   "source": [
    "import re\n",
    "# function to report 1 for negation\n",
    "#0 for no negataion\n",
    "def has_negation(post):\n",
    "    pattern_neg_1 = re.compile(r'\\b(not|no|never)\\b')\n",
    "    pattern_neg_2 = re.compile(r'\\b([a-z]+less)\\b')\n",
    "    if pattern_neg_1.search(post.lower()) or pattern_neg_2.search(post.lower()):\n",
    "        return 1\n",
    "    else: \n",
    "        return 0"
   ]
  },
  {
   "cell_type": "code",
   "execution_count": 112,
   "id": "71d69819",
   "metadata": {},
   "outputs": [],
   "source": [
    "# usign the fun on the reviews\n",
    "# appending results to a list\n",
    "neg_count=[]\n",
    "for item in X:\n",
    "    neg_count.append(has_negation(item))"
   ]
  },
  {
   "cell_type": "markdown",
   "id": "6f201b1f",
   "metadata": {},
   "source": [
    "## MNB bigrams + MNB NGrams"
   ]
  },
  {
   "cell_type": "code",
   "execution_count": 114,
   "id": "50e40305",
   "metadata": {},
   "outputs": [],
   "source": [
    "from sklearn.feature_extraction.text import TfidfVectorizer\n",
    "## Selecting the vectorizer options\n",
    "ngram_tfidf_vectorizer_mnb = TfidfVectorizer(encoding='latin-1'\n",
    "                                                 , ngram_range=(1,2)\n",
    "                                                 , use_idf=True\n",
    "                                                 , min_df=5\n",
    "                                                 , max_features=3000\n",
    "                                            )\n",
    "#vectorizing and savind the vector\n",
    "vecs = ngram_tfidf_vectorizer_mnb.fit_transform(X)\n",
    "# placing the vector into a pandas data frame\n",
    "vecsdf=pd.DataFrame(vecs.toarray(),\n",
    "            columns=ngram_tfidf_vectorizer_mnb.get_feature_names_out())"
   ]
  },
  {
   "cell_type": "code",
   "execution_count": 115,
   "id": "94382cac",
   "metadata": {},
   "outputs": [],
   "source": [
    "# Creating a empty dict for the accuracies\n",
    "mnb_bifs_dict={}\n",
    "mnb_ngram_dict={}"
   ]
  },
  {
   "cell_type": "code",
   "execution_count": 116,
   "id": "ba79cb7d",
   "metadata": {},
   "outputs": [],
   "source": [
    "# placing the original accuracies w/o feature sets into the dict\n",
    "mnb_bifs_dict['mnb_cv_score_bifs']=mnb_cv_score_bifs\n",
    "mnb_ngram_dict['mnb_cv_score_2']=mnb_cv_score_2"
   ]
  },
  {
   "cell_type": "markdown",
   "id": "84ee0862",
   "metadata": {},
   "source": [
    "## Testing Vader categories"
   ]
  },
  {
   "cell_type": "code",
   "execution_count": 117,
   "id": "845c93ed",
   "metadata": {},
   "outputs": [],
   "source": [
    "# adding feature set to data frame\n",
    "X_bifs['sent_2_norm']=sent_norm\n",
    "vecsdf['sent_2_norm']=sent_norm"
   ]
  },
  {
   "cell_type": "code",
   "execution_count": 118,
   "id": "e0474ee0",
   "metadata": {},
   "outputs": [
    {
     "name": "stdout",
     "output_type": "stream",
     "text": [
      "0.4956\n",
      "0.5186\n"
     ]
    }
   ],
   "source": [
    "# initializing the model\n",
    "mnb_bifs_sent_2 = MultinomialNB()\n",
    "#cross validation score\n",
    "mnb_cv_scores_bifs_sent_2 = cross_val_score(mnb_bifs_sent_2, X_bifs, y, cv=10)\n",
    "#finding the overall average accuracy.\n",
    "mnb_cv_score_bifs_sent_2 = round(np.mean(mnb_cv_scores_bifs_sent_2),4)\n",
    "print(mnb_cv_score_bifs_sent_2)\n",
    "# initializing the model\n",
    "mnb_ngram_sent_2 = MultinomialNB()\n",
    "#cross validation score\n",
    "mnb_cv_scores_ngram_sent_2 = cross_val_score(mnb_ngram_sent_2, vecsdf, y, cv=10)\n",
    "#finding the overall average accuracy.\n",
    "mnb_cv_score_ngram_sent_2 = round(np.mean(mnb_cv_scores_ngram_sent_2),4)\n",
    "print(mnb_cv_score_ngram_sent_2)\n",
    "# adding the accurracies to the dict\n",
    "mnb_bifs_dict['mnb_cv_score_bifs_sent_2']=mnb_cv_score_bifs_sent_2\n",
    "mnb_ngram_dict['mnb_cv_score_ngram_sent_2']=mnb_cv_score_ngram_sent_2"
   ]
  },
  {
   "cell_type": "code",
   "execution_count": 119,
   "id": "dc5f56c3",
   "metadata": {},
   "outputs": [],
   "source": [
    "#removing feature set from data frame\n",
    "X_bifs.drop('sent_2_norm',axis=1, inplace=True)\n",
    "vecsdf.drop('sent_2_norm',axis=1, inplace=True)"
   ]
  },
  {
   "cell_type": "markdown",
   "id": "3888db48",
   "metadata": {},
   "source": [
    "## Testing subjectivity FS"
   ]
  },
  {
   "cell_type": "code",
   "execution_count": 120,
   "id": "8383e4fd",
   "metadata": {},
   "outputs": [],
   "source": [
    "# adding feature set to data frame\n",
    "X_bifs['pos_norm']=pos_norm\n",
    "X_bifs['neg_norm']=neg_norm\n",
    "vecsdf['pos_norm']=pos_norm\n",
    "vecsdf['neg_norm']=neg_norm"
   ]
  },
  {
   "cell_type": "code",
   "execution_count": 121,
   "id": "be03f634",
   "metadata": {},
   "outputs": [
    {
     "name": "stdout",
     "output_type": "stream",
     "text": [
      "0.4948\n",
      "0.5132\n"
     ]
    }
   ],
   "source": [
    "# initializing the model\n",
    "mnb_bifs_polar = MultinomialNB()\n",
    "#cross validation score\n",
    "mnb_cv_scores_bifs_polar = cross_val_score(mnb_bifs_polar, X_bifs, y, cv=10)\n",
    "#finding the overall average accuracy.\n",
    "mnb_cv_score_bifs_polar = round(np.mean(mnb_cv_scores_bifs_polar),4)\n",
    "print(mnb_cv_score_bifs_polar)\n",
    "# initializing the model\n",
    "mnb_ngram_polar = MultinomialNB()\n",
    "#cross validation score\n",
    "mnb_cv_scores_ngram_polar = cross_val_score(mnb_ngram_polar, vecsdf, y, cv=10)\n",
    "#finding the overall average accuracy.\n",
    "mnb_cv_score_ngram_polar = round(np.mean(mnb_cv_scores_ngram_polar),4)\n",
    "print(mnb_cv_score_ngram_polar)\n",
    "# adding the accurracies to the dict\n",
    "mnb_bifs_dict['mnb_cv_score_bifs_polar']=mnb_cv_score_bifs_polar\n",
    "mnb_ngram_dict['mnb_cv_score_ngram_polar']=mnb_cv_score_ngram_polar"
   ]
  },
  {
   "cell_type": "code",
   "execution_count": 122,
   "id": "b304f14f",
   "metadata": {},
   "outputs": [],
   "source": [
    "#removing feature set from data frame\n",
    "X_bifs.drop('pos_norm',axis=1, inplace=True)\n",
    "X_bifs.drop('neg_norm',axis=1, inplace=True)\n",
    "vecsdf.drop('pos_norm',axis=1, inplace=True)\n",
    "vecsdf.drop('neg_norm',axis=1, inplace=True)"
   ]
  },
  {
   "cell_type": "markdown",
   "id": "443fd67a",
   "metadata": {},
   "source": [
    "## Testing sentence count FS"
   ]
  },
  {
   "cell_type": "code",
   "execution_count": 123,
   "id": "cff4a218",
   "metadata": {},
   "outputs": [],
   "source": [
    "# adding feature set to data frame\n",
    "X_bifs['sentences_count']=sentences_norm\n",
    "vecsdf['sentences_count']=sentences_norm"
   ]
  },
  {
   "cell_type": "code",
   "execution_count": 124,
   "id": "daecf85a",
   "metadata": {},
   "outputs": [
    {
     "name": "stdout",
     "output_type": "stream",
     "text": [
      "0.4947\n",
      "0.5132\n"
     ]
    }
   ],
   "source": [
    "# initializing the model\n",
    "mnb_bifs_sentences = MultinomialNB()\n",
    "#cross validation score\n",
    "mnb_cv_scores_bifs_sentences = cross_val_score(mnb_bifs_sentences, X_bifs, y, cv=10)\n",
    "#finding the overall average accuracy.\n",
    "mnb_cv_score_bifs_sentences = round(np.mean(mnb_cv_scores_bifs_sentences),4)\n",
    "print(mnb_cv_score_bifs_sentences)\n",
    "# initializing the model\n",
    "mnb_ngram_sentences = MultinomialNB()\n",
    "#cross validation score\n",
    "mnb_cv_scores_ngram_sentences = cross_val_score(mnb_ngram_sentences, vecsdf, y, cv=10)\n",
    "#finding the overall average accuracy.\n",
    "mnb_cv_score_ngram_sentences = round(np.mean(mnb_cv_scores_ngram_sentences),4)\n",
    "print(mnb_cv_score_ngram_sentences)\n",
    "# adding the accurracies to the dict\n",
    "mnb_bifs_dict['mnb_cv_score_bifs_sentences']=mnb_cv_score_bifs_sentences\n",
    "mnb_ngram_dict['mnb_cv_score_ngram_sentences']=mnb_cv_score_ngram_sentences"
   ]
  },
  {
   "cell_type": "code",
   "execution_count": 125,
   "id": "42bca4d6",
   "metadata": {},
   "outputs": [],
   "source": [
    "#removing feature set from data frame\n",
    "X_bifs.drop('sentences_count',axis=1, inplace=True)\n",
    "vecsdf.drop('sentences_count',axis=1, inplace=True)"
   ]
  },
  {
   "cell_type": "markdown",
   "id": "31145e93",
   "metadata": {},
   "source": [
    "## Testing word/token count FS"
   ]
  },
  {
   "cell_type": "code",
   "execution_count": 126,
   "id": "1252a3ca",
   "metadata": {},
   "outputs": [],
   "source": [
    "# adding feature set to data frame\n",
    "X_bifs['word_count']=word_norm\n",
    "vecsdf['word_count']=word_norm"
   ]
  },
  {
   "cell_type": "code",
   "execution_count": 127,
   "id": "c16f5c3f",
   "metadata": {},
   "outputs": [
    {
     "name": "stdout",
     "output_type": "stream",
     "text": [
      "0.4947\n",
      "0.5135\n"
     ]
    }
   ],
   "source": [
    "# initializing the model\n",
    "mnb_bifs_word = MultinomialNB()\n",
    "#cross validation score\n",
    "mnb_cv_scores_bifs_word = cross_val_score(mnb_bifs_word, X_bifs, y, cv=10)\n",
    "#finding the overall average accuracy.\n",
    "mnb_cv_score_bifs_word = round(np.mean(mnb_cv_scores_bifs_word),4)\n",
    "print(mnb_cv_score_bifs_word)\n",
    "# initializing the model\n",
    "mnb_ngram_word = MultinomialNB()\n",
    "#cross validation score\n",
    "mnb_cv_scores_ngram_word = cross_val_score(mnb_ngram_word, vecsdf, y, cv=10)\n",
    "#finding the overall average accuracy.\n",
    "mnb_cv_score_ngram_word = round(np.mean(mnb_cv_scores_ngram_word),4)\n",
    "print(mnb_cv_score_ngram_word)\n",
    "# adding the accurracies to the dict\n",
    "mnb_bifs_dict['mnb_cv_score_bifs_word']=mnb_cv_score_bifs_word\n",
    "mnb_ngram_dict['mnb_cv_score_ngram_word']=mnb_cv_score_ngram_word"
   ]
  },
  {
   "cell_type": "code",
   "execution_count": 128,
   "id": "adeb6e1f",
   "metadata": {},
   "outputs": [],
   "source": [
    "#removing feature set from data frame\n",
    "X_bifs.drop('word_count',axis=1, inplace=True)\n",
    "vecsdf.drop('word_count',axis=1, inplace=True)"
   ]
  },
  {
   "cell_type": "markdown",
   "id": "ee12ca3d",
   "metadata": {},
   "source": [
    "## Testing POS count FS"
   ]
  },
  {
   "cell_type": "code",
   "execution_count": 129,
   "id": "14bf557a",
   "metadata": {},
   "outputs": [],
   "source": [
    "# adding feature set to data frame\n",
    "X_bifs['nouns_count']=nouns_count_norm\n",
    "X_bifs['verbs_count']=verbs_count_norm\n",
    "X_bifs['adjectives_count']=adjectives_count_norm\n",
    "X_bifs['adverbs_count']=adverbs_count_norm\n",
    "\n",
    "vecsdf['nouns_count']=nouns_count_norm\n",
    "vecsdf['verbs_count']=verbs_count_norm\n",
    "vecsdf['adjectives_count']=adjectives_count_norm\n",
    "vecsdf['adverbs_count']=adverbs_count_norm"
   ]
  },
  {
   "cell_type": "code",
   "execution_count": 130,
   "id": "9d88676e",
   "metadata": {},
   "outputs": [
    {
     "name": "stdout",
     "output_type": "stream",
     "text": [
      "0.4944\n",
      "0.5123\n"
     ]
    }
   ],
   "source": [
    "# initializing the model\n",
    "mnb_bifs_pos = MultinomialNB()\n",
    "#cross validation score\n",
    "mnb_cv_scores_bifs_pos = cross_val_score(mnb_bifs_pos, X_bifs, y, cv=10)\n",
    "#finding the overall average accuracy.\n",
    "mnb_cv_score_bifs_pos = round(np.mean(mnb_cv_scores_bifs_pos),4)\n",
    "print(mnb_cv_score_bifs_pos)\n",
    "# initializing the model\n",
    "mnb_ngram_pos = MultinomialNB()\n",
    "#cross validation score\n",
    "mnb_cv_scores_ngram_pos = cross_val_score(mnb_ngram_pos, vecsdf, y, cv=10)\n",
    "#finding the overall average accuracy.\n",
    "mnb_cv_score_ngram_pos = round(np.mean(mnb_cv_scores_ngram_pos),4)\n",
    "print(mnb_cv_score_ngram_pos)\n",
    "# adding the accurracies to the dict\n",
    "mnb_bifs_dict['mnb_cv_score_bifs_pos']=mnb_cv_score_bifs_pos\n",
    "mnb_ngram_dict['mnb_cv_score_ngram_pos']=mnb_cv_score_ngram_pos"
   ]
  },
  {
   "cell_type": "code",
   "execution_count": 131,
   "id": "6617a4fa",
   "metadata": {},
   "outputs": [],
   "source": [
    "#removing feature set from data frame\n",
    "X_bifs.drop('nouns_count',axis=1, inplace=True)\n",
    "X_bifs.drop('verbs_count',axis=1, inplace=True)\n",
    "X_bifs.drop('adjectives_count',axis=1, inplace=True)\n",
    "X_bifs.drop('adverbs_count',axis=1, inplace=True)\n",
    "\n",
    "vecsdf.drop('nouns_count',axis=1, inplace=True)\n",
    "vecsdf.drop('verbs_count',axis=1, inplace=True)\n",
    "vecsdf.drop('adjectives_count',axis=1, inplace=True)\n",
    "vecsdf.drop('adverbs_count',axis=1, inplace=True)"
   ]
  },
  {
   "cell_type": "markdown",
   "id": "08281068",
   "metadata": {},
   "source": [
    "## Testing negation count FS"
   ]
  },
  {
   "cell_type": "code",
   "execution_count": 132,
   "id": "1aae5618",
   "metadata": {},
   "outputs": [],
   "source": [
    "# adding feature set to data frame\n",
    "X_bifs['neg_count']=neg_count\n",
    "vecsdf['neg_count']=neg_count"
   ]
  },
  {
   "cell_type": "code",
   "execution_count": 133,
   "id": "eb99c94a",
   "metadata": {},
   "outputs": [
    {
     "name": "stdout",
     "output_type": "stream",
     "text": [
      "0.4941\n",
      "0.5128\n"
     ]
    }
   ],
   "source": [
    "# initializing the model\n",
    "mnb_bifs_neg = MultinomialNB()\n",
    "#cross validation score\n",
    "mnb_cv_scores_bifs_neg = cross_val_score(mnb_bifs_neg, X_bifs, y, cv=10)\n",
    "#finding the overall average accuracy.\n",
    "mnb_cv_score_bifs_neg = round(np.mean(mnb_cv_scores_bifs_neg),4)\n",
    "print(mnb_cv_score_bifs_neg)\n",
    "# initializing the model\n",
    "mnb_ngram_neg = MultinomialNB()\n",
    "#cross validation score\n",
    "mnb_cv_scores_ngram_neg = cross_val_score(mnb_ngram_neg, vecsdf, y, cv=10)\n",
    "#finding the overall average accuracy.\n",
    "mnb_cv_score_ngram_neg = round(np.mean(mnb_cv_scores_ngram_neg),4)\n",
    "print(mnb_cv_score_ngram_neg)\n",
    "# adding the accurracies to the dict\n",
    "mnb_bifs_dict['mnb_cv_score_bifs_neg']=mnb_cv_score_bifs_neg\n",
    "mnb_ngram_dict['mnb_cv_score_ngram_neg']=mnb_cv_score_ngram_neg"
   ]
  },
  {
   "cell_type": "code",
   "execution_count": 134,
   "id": "43f6b89c",
   "metadata": {},
   "outputs": [],
   "source": [
    "#removing feature set from data frame\n",
    "X_bifs.drop('neg_count',axis=1, inplace=True)\n",
    "vecsdf.drop('neg_count',axis=1, inplace=True)"
   ]
  },
  {
   "cell_type": "code",
   "execution_count": 135,
   "id": "ffaf94d2",
   "metadata": {},
   "outputs": [
    {
     "name": "stdout",
     "output_type": "stream",
     "text": [
      "mnb_cv_score_bifs 0.4946\n",
      "mnb_cv_score_bifs_sent_2 0.4956\n",
      "mnb_cv_score_bifs_polar 0.4948\n",
      "mnb_cv_score_bifs_sentences 0.4947\n",
      "mnb_cv_score_bifs_word 0.4947\n",
      "mnb_cv_score_bifs_pos 0.4944\n",
      "mnb_cv_score_bifs_neg 0.4941\n"
     ]
    }
   ],
   "source": [
    "for i,v in mnb_bifs_dict.items():\n",
    "    print(i,v)\n"
   ]
  },
  {
   "cell_type": "code",
   "execution_count": 136,
   "id": "8eb249f7",
   "metadata": {},
   "outputs": [
    {
     "name": "stdout",
     "output_type": "stream",
     "text": [
      "mnb_cv_score_2 0.5136\n",
      "mnb_cv_score_ngram_sent_2 0.5186\n",
      "mnb_cv_score_ngram_polar 0.5132\n",
      "mnb_cv_score_ngram_sentences 0.5132\n",
      "mnb_cv_score_ngram_word 0.5135\n",
      "mnb_cv_score_ngram_pos 0.5123\n",
      "mnb_cv_score_ngram_neg 0.5128\n"
     ]
    }
   ],
   "source": [
    "for i,v in mnb_ngram_dict.items():\n",
    "    print(i,v)"
   ]
  },
  {
   "cell_type": "markdown",
   "id": "6b603ab4",
   "metadata": {},
   "source": [
    "## Multiple Feature sets"
   ]
  },
  {
   "cell_type": "code",
   "execution_count": 137,
   "id": "19b3c4fc",
   "metadata": {},
   "outputs": [],
   "source": [
    "# adding feature sets to data frame\n",
    "vecsdf['sent_2_norm']=sent_norm\n",
    "vecsdf['pos_norm']=pos_norm\n",
    "vecsdf['neg_norm']=neg_norm\n",
    "vecsdf['neg_count']=neg_count_norm"
   ]
  },
  {
   "cell_type": "code",
   "execution_count": 138,
   "id": "83fe59ed",
   "metadata": {},
   "outputs": [],
   "source": [
    "# adding feature sets to data frame\n",
    "X_bifs['sent_2_norm']=sent_norm\n",
    "X_bifs['pos_norm']=pos_norm\n",
    "X_bifs['neg_norm']=neg_norm"
   ]
  },
  {
   "cell_type": "code",
   "execution_count": 139,
   "id": "fa20ceba",
   "metadata": {},
   "outputs": [
    {
     "name": "stdout",
     "output_type": "stream",
     "text": [
      "0.4955\n",
      "0.5173\n"
     ]
    }
   ],
   "source": [
    "# initializing the model\n",
    "mnb_bifs_final = MultinomialNB()\n",
    "#cross validation score\n",
    "mnb_cv_scores_bifs_final = cross_val_score(mnb_bifs_final, X_bifs, y, cv=10)\n",
    "#finding the overall average accuracy.\n",
    "mnb_cv_score_bifs_final = round(np.mean(mnb_cv_scores_bifs_final),4)\n",
    "print(mnb_cv_score_bifs_final)\n",
    "# initializing the model\n",
    "mnb_ngram_final = MultinomialNB()\n",
    "#cross validation score\n",
    "mnb_cv_scores_ngram_final = cross_val_score(mnb_ngram_final, vecsdf, y, cv=10)\n",
    "#finding the overall average accuracy.\n",
    "mnb_cv_score_ngram_final = round(np.mean(mnb_cv_scores_ngram_final),4)\n",
    "print(mnb_cv_score_ngram_final)\n",
    "# adding the accurracies to the dict\n",
    "mnb_bifs_dict['mnb_cv_score_bifs_final']=mnb_cv_score_bifs_final\n",
    "mnb_ngram_dict['mnb_cv_score_ngram_final']=mnb_cv_score_ngram_final"
   ]
  },
  {
   "cell_type": "code",
   "execution_count": 140,
   "id": "20208617",
   "metadata": {},
   "outputs": [],
   "source": [
    "#removing feature sets from data frame\n",
    "vecsdf.drop('sent_2_norm',axis=1, inplace=True)\n",
    "vecsdf.drop('pos_norm',axis=1, inplace=True)\n",
    "vecsdf.drop('neg_count',axis=1, inplace=True)\n",
    "vecsdf.drop('neg_norm',axis=1, inplace=True)"
   ]
  },
  {
   "cell_type": "code",
   "execution_count": 141,
   "id": "1f09c3c4",
   "metadata": {},
   "outputs": [],
   "source": [
    "#removing feature sets from data frame\n",
    "X_bifs.drop('sent_2_norm',axis=1, inplace=True)\n",
    "X_bifs.drop('pos_norm',axis=1, inplace=True)\n",
    "X_bifs.drop('neg_norm',axis=1, inplace=True)"
   ]
  },
  {
   "cell_type": "code",
   "execution_count": 142,
   "id": "ad00ffae",
   "metadata": {},
   "outputs": [
    {
     "name": "stdout",
     "output_type": "stream",
     "text": [
      "mnb_cv_score_bifs 0.4946\n",
      "mnb_cv_score_bifs_sent_2 0.4956\n",
      "mnb_cv_score_bifs_polar 0.4948\n",
      "mnb_cv_score_bifs_sentences 0.4947\n",
      "mnb_cv_score_bifs_word 0.4947\n",
      "mnb_cv_score_bifs_pos 0.4944\n",
      "mnb_cv_score_bifs_neg 0.4941\n",
      "mnb_cv_score_bifs_final 0.4955\n"
     ]
    }
   ],
   "source": [
    "# printing out accuracies\n",
    "for i,v in mnb_bifs_dict.items():\n",
    "    print(i,v)"
   ]
  },
  {
   "cell_type": "code",
   "execution_count": 143,
   "id": "dfdb329b",
   "metadata": {},
   "outputs": [
    {
     "name": "stdout",
     "output_type": "stream",
     "text": [
      "mnb_cv_score_2 0.5136\n",
      "mnb_cv_score_ngram_sent_2 0.5186\n",
      "mnb_cv_score_ngram_polar 0.5132\n",
      "mnb_cv_score_ngram_sentences 0.5132\n",
      "mnb_cv_score_ngram_word 0.5135\n",
      "mnb_cv_score_ngram_pos 0.5123\n",
      "mnb_cv_score_ngram_neg 0.5128\n",
      "mnb_cv_score_ngram_final 0.5173\n"
     ]
    }
   ],
   "source": [
    "# Printing out accuracies\n",
    "for i,v in mnb_ngram_dict.items():\n",
    "    print(i,v)"
   ]
  },
  {
   "cell_type": "code",
   "execution_count": 144,
   "id": "ec4453fc",
   "metadata": {},
   "outputs": [
    {
     "data": {
      "image/png": "[encoded data removed]",
      "text/plain": [
       "<Figure size 4320x576 with 1 Axes>"
      ]
     },
     "metadata": {
      "needs_background": "light"
     },
     "output_type": "display_data"
    }
   ],
   "source": [
    "import matplotlib.pyplot as plt\n",
    "import matplotlib.patches as mpatches\n",
    "# function to add value labels\n",
    "def addlabels(y):\n",
    "    for i in range(len(y)):\n",
    "        plt.text(i,y[i],y[i],fontweight = 'bold')\n",
    "\n",
    "\n",
    "values = list(mnb_bifs_dict.values())\n",
    "names = list(mnb_bifs_dict.keys())\n",
    "colors = ['teal','lightcoral','darkgreen','orangered','darkorchid','gold','darkgray','crimson'\n",
    "]\n",
    "plt.figure(figsize=(60, 8))\n",
    "\n",
    "plt.subplot(121)\n",
    "plt.bar(names\n",
    "        ,values\n",
    "        ,color= colors\n",
    "       )\n",
    "plt.xticks(rotation= 45)\n",
    "#plt.show()\n",
    "# legend manually added\n",
    "l1 = mpatches.Patch(color='teal', label='Original No Feature Sets')\n",
    "l2 = mpatches.Patch(color='lightcoral', label='Vader Sentiment')\n",
    "l3 = mpatches.Patch(color='darkgreen', label='Subjectivity')\n",
    "l4 = mpatches.Patch(color='orangered', label='Sentence Coun')\n",
    "l5 = mpatches.Patch(color='darkorchid', label='Word Count')\n",
    "l6 = mpatches.Patch(color='gold', label='Part of Speech Count')\n",
    "l7 = mpatches.Patch(color='darkgray', label='Negation Count')\n",
    "l8 = mpatches.Patch(color='crimson', label='Combination (Vader + Subjectivity)')\n",
    "\n",
    "\n",
    "\n",
    "\n",
    "plt.ylabel('Percent')\n",
    "plt.xlabel('Model')\n",
    "plt.title('NLTK Bigrams accuracy: orginal vs feature sets additons (MNB)')\n",
    "\n",
    "addlabels(values)\n",
    "plt.legend(handles=[l1, l2, l3,l4,l5,l6,l7,l8], loc=3)\n",
    "plt.show()"
   ]
  },
  {
   "cell_type": "code",
   "execution_count": 145,
   "id": "fa08d9be",
   "metadata": {},
   "outputs": [
    {
     "data": {
      "image/png": "[encoded data removed]",
      "text/plain": [
       "<Figure size 4320x576 with 1 Axes>"
      ]
     },
     "metadata": {
      "needs_background": "light"
     },
     "output_type": "display_data"
    }
   ],
   "source": [
    "import matplotlib.pyplot as plt\n",
    "import matplotlib.patches as mpatches\n",
    "# function to add value labels\n",
    "def addlabels(y):\n",
    "    for i in range(len(y)):\n",
    "        plt.text(i,y[i],y[i],fontweight = 'bold')\n",
    "\n",
    "\n",
    "values = list(mnb_ngram_dict.values())\n",
    "names = list(mnb_ngram_dict.keys())\n",
    "colors = ['teal','lightcoral','darkgreen','orangered','darkorchid','gold','darkgray','crimson'\n",
    "]\n",
    "plt.figure(figsize=(60, 8))\n",
    "\n",
    "plt.subplot(121)\n",
    "plt.bar(names\n",
    "        ,values\n",
    "        ,color= colors\n",
    "       )\n",
    "plt.xticks(rotation= 45)\n",
    "#plt.show()\n",
    "# legend manually added\n",
    "l1 = mpatches.Patch(color='teal', label='Original No Feature Sets')\n",
    "l2 = mpatches.Patch(color='lightcoral', label='Vader Sentiment')\n",
    "l3 = mpatches.Patch(color='darkgreen', label='Subjectivity')\n",
    "l4 = mpatches.Patch(color='orangered', label='Sentence Coun')\n",
    "l5 = mpatches.Patch(color='darkorchid', label='Word Count')\n",
    "l6 = mpatches.Patch(color='gold', label='Part of Speech Count')\n",
    "l7 = mpatches.Patch(color='darkgray', label='Negation Count')\n",
    "l8 = mpatches.Patch(color='crimson', label='Combination (Vader + Subjectivity + Negation)')\n",
    "\n",
    "\n",
    "\n",
    "\n",
    "plt.ylabel('Percent')\n",
    "plt.xlabel('Model')\n",
    "plt.title('sklearn Ngram accuracy: orginal vs feature sets additons (MNB)')\n",
    "\n",
    "addlabels(values)\n",
    "plt.legend(handles=[l1, l2, l3,l4,l5,l6,l7,l8], loc=4)\n",
    "plt.show()"
   ]
  }
 ],
 "metadata": {
  "kernelspec": {
   "display_name": "Python 3 (ipykernel)",
   "language": "python",
   "name": "python3"
  },
  "language_info": {
   "codemirror_mode": {
    "name": "ipython",
    "version": 3
   },
   "file_extension": ".py",
   "mimetype": "text/x-python",
   "name": "python",
   "nbconvert_exporter": "python",
   "pygments_lexer": "ipython3",
   "version": "3.8.8"
  }
 },
 "nbformat": 4,
 "nbformat_minor": 5
}
