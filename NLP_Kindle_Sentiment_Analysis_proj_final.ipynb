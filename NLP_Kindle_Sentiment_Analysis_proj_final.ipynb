{
 "cells": [
  {
   "cell_type": "markdown",
   "id": "1bedf15c",
   "metadata": {},
   "source": [
    "## Input"
   ]
  },
  {
   "cell_type": "code",
   "execution_count": 92,
   "id": "5e3d1f0a",
   "metadata": {},
   "outputs": [],
   "source": [
    "import pandas as pd\n",
    "df = pd.read_csv(r'C:\\Users\\Morga\\programsMG\\NaturalLanguageProcessing\\preprocessed_kindle_review.csv')"
   ]
  },
  {
   "cell_type": "markdown",
   "id": "6eebef74",
   "metadata": {},
   "source": [
    " ## Preprocessing"
   ]
  },
  {
   "cell_type": "code",
   "execution_count": 93,
   "id": "d30a0861",
   "metadata": {},
   "outputs": [],
   "source": [
    "M = df['reviewText'].tolist()\n",
    "y = df['rating'].tolist()"
   ]
  },
  {
   "cell_type": "code",
   "execution_count": 94,
   "id": "07a83149",
   "metadata": {},
   "outputs": [],
   "source": [
    "import re\n",
    "X=[]\n",
    "for item in M:\n",
    "    X.append(re.sub(r'([a-zA-Z0-9_<>-])\\1+', r'\\1\\1', item))"
   ]
  },
  {
   "cell_type": "markdown",
   "id": "01eaede0",
   "metadata": {},
   "source": [
    "## Vectorization"
   ]
  },
  {
   "cell_type": "code",
   "execution_count": 95,
   "id": "9fe69241",
   "metadata": {},
   "outputs": [],
   "source": [
    "from nltk.tokenize import word_tokenize \n",
    "\n",
    "textdocuments=[]\n",
    "for item in X:\n",
    "    x = word_tokenize(item)\n",
    "    textdocuments.append(x)  "
   ]
  },
  {
   "cell_type": "code",
   "execution_count": 96,
   "id": "03763505",
   "metadata": {},
   "outputs": [],
   "source": [
    "def merge(list1, list2):\n",
    "    merged_list = [(list1 [i], list2 [i]) for i in range (0, len(list1))]\n",
    "    return merged_list"
   ]
  },
  {
   "cell_type": "code",
   "execution_count": 97,
   "id": "474c5cdb",
   "metadata": {},
   "outputs": [],
   "source": [
    "documents = merge(textdocuments,y) "
   ]
  },
  {
   "cell_type": "markdown",
   "id": "835147a6",
   "metadata": {},
   "source": [
    "##  Dict for Accuracy and F1 score"
   ]
  },
  {
   "cell_type": "code",
   "execution_count": 98,
   "id": "8f6de899",
   "metadata": {},
   "outputs": [],
   "source": [
    "final_dict_NLTK = {}\n",
    "final_dict_Sklearn = {}"
   ]
  },
  {
   "cell_type": "markdown",
   "id": "1c9faf81",
   "metadata": {},
   "source": [
    "## Original bigram mnb model"
   ]
  },
  {
   "cell_type": "code",
   "execution_count": 99,
   "id": "1f3842bb",
   "metadata": {},
   "outputs": [],
   "source": [
    "bigram_featuresets_df = pd.read_csv(r'C:\\Users\\Morga\\programsMG\\NaturalLanguageProcessing\\bigram_featuresets.csv')"
   ]
  },
  {
   "cell_type": "code",
   "execution_count": 100,
   "id": "244bdec2",
   "metadata": {},
   "outputs": [],
   "source": [
    "X_bifs=bigram_featuresets_df.drop('class',axis=1)"
   ]
  },
  {
   "cell_type": "code",
   "execution_count": 101,
   "id": "df531789",
   "metadata": {},
   "outputs": [],
   "source": [
    "# import the module\n",
    "from sklearn.naive_bayes import MultinomialNB\n",
    "from sklearn.model_selection import cross_val_score\n",
    "import numpy as np\n",
    "# initialize the model\n",
    "mnb1_bifs = MultinomialNB()"
   ]
  },
  {
   "cell_type": "code",
   "execution_count": 102,
   "id": "daf4229e",
   "metadata": {},
   "outputs": [
    {
     "name": "stdout",
     "output_type": "stream",
     "text": [
      "0.4946\n"
     ]
    }
   ],
   "source": [
    "# use the training data to train the model\n",
    "mnb_model_bifs = mnb1_bifs.fit(X_bifs,y)\n",
    "#cross validation score\n",
    "mnb_cv_scores_bifs = cross_val_score(mnb1_bifs, X_bifs, y, cv=10)\n",
    "#finding the overall average accuracy.\n",
    "mnb_cv_score_bifs = round(np.mean(mnb_cv_scores_bifs),4)\n",
    "print(mnb_cv_score_bifs)"
   ]
  },
  {
   "cell_type": "code",
   "execution_count": 103,
   "id": "a09234d2",
   "metadata": {},
   "outputs": [
    {
     "name": "stdout",
     "output_type": "stream",
     "text": [
      "[[1284  447  111   71   87]\n",
      " [ 680  743  304  155  118]\n",
      " [ 279  394  642  451  234]\n",
      " [ 147  163  484 1168 1038]\n",
      " [ 125   46  126  605 2098]]\n",
      "\n",
      "              precision    recall  f1-score   support\n",
      "\n",
      "           1       0.51      0.64      0.57      2000\n",
      "           2       0.41      0.37      0.39      2000\n",
      "           3       0.39      0.32      0.35      2000\n",
      "           4       0.48      0.39      0.43      3000\n",
      "           5       0.59      0.70      0.64      3000\n",
      "\n",
      "    accuracy                           0.49     12000\n",
      "   macro avg       0.47      0.48      0.48     12000\n",
      "weighted avg       0.48      0.49      0.49     12000\n",
      "\n"
     ]
    }
   ],
   "source": [
    "from sklearn.model_selection import cross_val_predict\n",
    "# print confusion matrix and classification report\n",
    "mnb_model_bifs_pred = cross_val_predict(mnb1_bifs, X_bifs, y, cv=10)\n",
    "\n",
    "from sklearn.metrics import confusion_matrix\n",
    "cm=confusion_matrix(y, mnb_model_bifs_pred, labels=[1,2,3,4,5])\n",
    "print(cm)\n",
    "print()\n",
    "\n",
    "from sklearn.metrics import classification_report\n",
    "target_names = ['1','2','3','4','5']\n",
    "mnb_model_bifs_report= classification_report(y, mnb_model_bifs_pred, target_names=target_names)\n",
    "print(mnb_model_bifs_report)"
   ]
  },
  {
   "cell_type": "code",
   "execution_count": 104,
   "id": "f0fda4dc",
   "metadata": {},
   "outputs": [],
   "source": [
    "mnb_model_bifs_f1_1_score= float(mnb_model_bifs_report[94:98])\n",
    "mnb_model_bifs_f1_2_score = float(mnb_model_bifs_report[148:152])\n",
    "mnb_model_bifs_f1_3_score = float(mnb_model_bifs_report[202:206])\n",
    "mnb_model_bifs_f1_4_score = float(mnb_model_bifs_report[256:260])\n",
    "mnb_model_bifs_f1_5_score = float(mnb_model_bifs_report[310:314])"
   ]
  },
  {
   "cell_type": "markdown",
   "id": "733d51a6",
   "metadata": {},
   "source": [
    "## Original Ngram mnb model"
   ]
  },
  {
   "cell_type": "code",
   "execution_count": 105,
   "id": "c94952ce",
   "metadata": {},
   "outputs": [],
   "source": [
    "# initialize the  model\n",
    "mnb2 = MultinomialNB()"
   ]
  },
  {
   "cell_type": "code",
   "execution_count": 106,
   "id": "53cd7aba",
   "metadata": {},
   "outputs": [],
   "source": [
    "from sklearn.feature_extraction.text import TfidfVectorizer\n",
    "ngram_tfidf_vectorizer_mnb = TfidfVectorizer(encoding='latin-1'\n",
    "                                                 ,ngram_range=(1,2)\n",
    "                                                 , use_idf=True\n",
    "                                                 , min_df=5\n",
    "                                                 , max_features=3000\n",
    "                                                )"
   ]
  },
  {
   "cell_type": "code",
   "execution_count": 107,
   "id": "2770b3c7",
   "metadata": {},
   "outputs": [],
   "source": [
    "# fitting and transforming the training data using the count vectorizer\n",
    "X_train_mnb_2 = ngram_tfidf_vectorizer_mnb.fit_transform(X)"
   ]
  },
  {
   "cell_type": "code",
   "execution_count": 108,
   "id": "7df3dea6",
   "metadata": {},
   "outputs": [
    {
     "name": "stdout",
     "output_type": "stream",
     "text": [
      "0.5136\n"
     ]
    }
   ],
   "source": [
    "# use the training data to train the model\n",
    "#mnb_model_2 = mnb2.fit(X_train_mnb_2,y)\n",
    "#cross validation score\n",
    "mnb_cv_scores_2 = cross_val_score(mnb2, X_train_mnb_2, y, cv=10)\n",
    "#finding the overall average accuracy.\n",
    "mnb_cv_score_2 = round(np.mean(mnb_cv_scores_2),4)\n",
    "print(mnb_cv_score_2)"
   ]
  },
  {
   "cell_type": "code",
   "execution_count": 109,
   "id": "779cbeea",
   "metadata": {},
   "outputs": [
    {
     "name": "stdout",
     "output_type": "stream",
     "text": [
      "[[1142  447   66  227  118]\n",
      " [ 498  807  194  365  136]\n",
      " [ 152  371  418  869  190]\n",
      " [  47   92  213 1699  949]\n",
      " [  47   23   18  815 2097]]\n",
      "\n",
      "              precision    recall  f1-score   support\n",
      "\n",
      "           1       0.61      0.57      0.59      2000\n",
      "           2       0.46      0.40      0.43      2000\n",
      "           3       0.46      0.21      0.29      2000\n",
      "           4       0.43      0.57      0.49      3000\n",
      "           5       0.60      0.70      0.65      3000\n",
      "\n",
      "    accuracy                           0.51     12000\n",
      "   macro avg       0.51      0.49      0.49     12000\n",
      "weighted avg       0.51      0.51      0.50     12000\n",
      "\n"
     ]
    }
   ],
   "source": [
    "# print confusion matrix and classification report\n",
    "mnb_ngram_pred = cross_val_predict(mnb2, X_train_mnb_2, y, cv=10)\n",
    "\n",
    "from sklearn.metrics import confusion_matrix\n",
    "cm=confusion_matrix(y, mnb_ngram_pred, labels=[1,2,3,4,5])\n",
    "print(cm)\n",
    "print()\n",
    "\n",
    "from sklearn.metrics import classification_report\n",
    "target_names = ['1','2','3','4','5']\n",
    "mnb_ngram_report= classification_report(y, mnb_ngram_pred, target_names=target_names)\n",
    "print(mnb_ngram_report)"
   ]
  },
  {
   "cell_type": "code",
   "execution_count": 110,
   "id": "7523e2d2",
   "metadata": {},
   "outputs": [],
   "source": [
    "mnb_model_ngram_f1_1_score= float(mnb_ngram_report[94:98])\n",
    "mnb_model_ngram_f1_2_score = float(mnb_ngram_report[148:152])\n",
    "mnb_model_ngram_f1_3_score = float(mnb_ngram_report[202:206])\n",
    "mnb_model_ngram_f1_4_score = float(mnb_ngram_report[256:260])\n",
    "mnb_model_ngram_f1_5_score = float(mnb_ngram_report[310:314])"
   ]
  },
  {
   "cell_type": "markdown",
   "id": "796d0f6f",
   "metadata": {},
   "source": [
    "## Adding to dict"
   ]
  },
  {
   "cell_type": "code",
   "execution_count": 111,
   "id": "6dbe958b",
   "metadata": {},
   "outputs": [],
   "source": [
    "final_dict_NLTK['mnb_cv_score_bifs']=mnb_cv_score_bifs\n",
    "final_dict_NLTK['mnb_model_bifs_f1_1_score']=mnb_model_bifs_f1_1_score\n",
    "final_dict_NLTK['mnb_model_bifs_f1_2_score']=mnb_model_bifs_f1_2_score\n",
    "final_dict_NLTK['mnb_model_bifs_f1_3_score']=mnb_model_bifs_f1_3_score\n",
    "final_dict_NLTK['mnb_model_bifs_f1_4_score']=mnb_model_bifs_f1_4_score\n",
    "final_dict_NLTK['mnb_model_bifs_f1_5_score']=mnb_model_bifs_f1_5_score"
   ]
  },
  {
   "cell_type": "code",
   "execution_count": 112,
   "id": "20da22d1",
   "metadata": {},
   "outputs": [],
   "source": [
    "final_dict_Sklearn['mnb_cv_score_2']=mnb_cv_score_2\n",
    "final_dict_Sklearn['mnb_model_ngram_f1_1_score']=mnb_model_ngram_f1_1_score\n",
    "final_dict_Sklearn['mnb_model_ngram_f1_2_score']=mnb_model_ngram_f1_2_score\n",
    "final_dict_Sklearn['mnb_model_ngram_f1_3_score']=mnb_model_ngram_f1_3_score\n",
    "final_dict_Sklearn['mnb_model_ngram_f1_4_score']=mnb_model_ngram_f1_4_score\n",
    "final_dict_Sklearn['mnb_model_ngram_f1_5_score']=mnb_model_ngram_f1_5_score"
   ]
  },
  {
   "cell_type": "markdown",
   "id": "d9be684d",
   "metadata": {},
   "source": [
    "## Vader"
   ]
  },
  {
   "cell_type": "code",
   "execution_count": 113,
   "id": "39adbb9c",
   "metadata": {},
   "outputs": [],
   "source": [
    "from vaderSentiment.vaderSentiment import SentimentIntensityAnalyzer\n",
    "analyzer = SentimentIntensityAnalyzer()\n",
    "#setting an empty list to save the compound scores into.\n",
    "vs_list_compound = [] \n",
    "#Looping through to get a compound score for each tweet saving it into the compund list created.\n",
    "for review in X:\n",
    "    vs = analyzer.polarity_scores(review)\n",
    "    vs_list = vs['compound']\n",
    "    vs_list_compound.append(vs_list) "
   ]
  },
  {
   "cell_type": "code",
   "execution_count": 114,
   "id": "a77bcd41",
   "metadata": {},
   "outputs": [],
   "source": [
    "import numpy as np\n",
    "sent_array = np.asarray(vs_list_compound)\n",
    "sent_norm = (sent_array - sent_array.min())/ (sent_array.max() - sent_array.min())"
   ]
  },
  {
   "cell_type": "markdown",
   "id": "de54bb9f",
   "metadata": {},
   "source": [
    "## subjectivity"
   ]
  },
  {
   "cell_type": "code",
   "execution_count": 115,
   "id": "30e5d657",
   "metadata": {},
   "outputs": [],
   "source": [
    "SLpath = r\"C:\\Users\\Morga\\programsMG\\NaturalLanguageProcessing\\subjclueslen1-HLTEMNLP05.tff\""
   ]
  },
  {
   "cell_type": "code",
   "execution_count": 116,
   "id": "9de19b09",
   "metadata": {},
   "outputs": [],
   "source": [
    "# this function returns a dictionary where you can look up words and get back \n",
    "#     the four items of subjectivity information described above\n",
    "def readSubjectivity(path):\n",
    "    flexicon = open(path, 'r')\n",
    "    # initialize an empty dictionary\n",
    "    sldict = { }\n",
    "    for line in flexicon:\n",
    "        fields = line.split()   # default is to split on whitespace\n",
    "        # split each field on the '=' and keep the second part as the value\n",
    "        strength = fields[0].split(\"=\")[1]\n",
    "        word = fields[2].split(\"=\")[1]\n",
    "        posTag = fields[3].split(\"=\")[1]\n",
    "        stemmed = fields[4].split(\"=\")[1]\n",
    "        polarity = fields[5].split(\"=\")[1]\n",
    "        if (stemmed == 'y'):\n",
    "            isStemmed = True\n",
    "        else:\n",
    "            isStemmed = False\n",
    "        # put a dictionary entry with the word as the keyword\n",
    "        #     and a list of the other values\n",
    "        sldict[word] = [strength, posTag, isStemmed, polarity]\n",
    "    return sldict"
   ]
  },
  {
   "cell_type": "code",
   "execution_count": 117,
   "id": "6afffe2e",
   "metadata": {},
   "outputs": [],
   "source": [
    "# or copy the readSubjectivity function into your session and cal the fn\n",
    "SL = readSubjectivity(SLpath)"
   ]
  },
  {
   "cell_type": "code",
   "execution_count": 118,
   "id": "9e5681f1",
   "metadata": {},
   "outputs": [],
   "source": [
    "document_words=[]\n",
    "for (d, c) in documents:\n",
    "    document_words.append(d)"
   ]
  },
  {
   "cell_type": "code",
   "execution_count": 119,
   "id": "4f31041d",
   "metadata": {},
   "outputs": [],
   "source": [
    "pos_count = []\n",
    "neg_count =[]\n",
    "for review in document_words:\n",
    "    temp_pos = []\n",
    "    temp_neg =[]\n",
    "    for token in review:\n",
    "        weakPos = 0\n",
    "        strongPos = 0\n",
    "        weakNeg = 0\n",
    "        strongNeg = 0\n",
    "        if token in SL:\n",
    "            strength, posTag, isStemmed, polarity = SL[token]\n",
    "            if strength == 'weaksubj' and polarity == 'positive':\n",
    "                weakPos += 1\n",
    "            if strength == 'strongsubj' and polarity == 'positive':\n",
    "                strongPos += 1\n",
    "            if strength == 'weaksubj' and polarity == 'negative':\n",
    "                weakNeg += 1\n",
    "            if strength == 'strongsubj' and polarity == 'negative':\n",
    "                strongNeg += 1\n",
    "            temp_pos.append(weakPos + (2 * strongPos))\n",
    "            temp_neg.append(weakNeg + (2 * strongNeg))            \n",
    "    pos_count.append(sum(temp_pos))\n",
    "    neg_count.append(sum(temp_neg))"
   ]
  },
  {
   "cell_type": "code",
   "execution_count": 120,
   "id": "320d748d",
   "metadata": {},
   "outputs": [],
   "source": [
    "import numpy as np\n",
    "pos_array = np.asarray(pos_count)\n",
    "pos_norm = (pos_array - pos_array.min())/ (pos_array.max() - pos_array.min())"
   ]
  },
  {
   "cell_type": "code",
   "execution_count": 121,
   "id": "3a8bb746",
   "metadata": {},
   "outputs": [],
   "source": [
    "import numpy as np\n",
    "neg_array = np.asarray(neg_count)\n",
    "neg_norm = (neg_array - neg_array.min())/ (neg_array.max() - neg_array.min())"
   ]
  },
  {
   "cell_type": "markdown",
   "id": "0111b4fb",
   "metadata": {},
   "source": [
    "## Negation"
   ]
  },
  {
   "cell_type": "code",
   "execution_count": 122,
   "id": "ae87b5d9",
   "metadata": {},
   "outputs": [],
   "source": [
    "import re\n",
    "def has_negation(post):\n",
    "    pattern_neg_1 = re.compile(r'\\b(not|no|never)\\b')\n",
    "    pattern_neg_2 = re.compile(r'\\b([a-z]+less)\\b')\n",
    "    if pattern_neg_1.search(post.lower()) or pattern_neg_2.search(post.lower()):\n",
    "        return 1\n",
    "    else: \n",
    "        return 0"
   ]
  },
  {
   "cell_type": "code",
   "execution_count": 123,
   "id": "dc6fabaa",
   "metadata": {},
   "outputs": [],
   "source": [
    "neg_count=[]\n",
    "for item in X:\n",
    "    neg_count.append(has_negation(item))"
   ]
  },
  {
   "cell_type": "code",
   "execution_count": 124,
   "id": "1f7ceed2",
   "metadata": {},
   "outputs": [],
   "source": [
    "neg_count_array = np.asarray(neg_count)\n",
    "neg_count_norm = (neg_count_array - neg_count_array.min())/ (neg_count_array.max() - neg_count_array.min())"
   ]
  },
  {
   "cell_type": "markdown",
   "id": "6d0de0f3",
   "metadata": {},
   "source": [
    "## Final Model Creations"
   ]
  },
  {
   "cell_type": "code",
   "execution_count": 125,
   "id": "fcbdf078",
   "metadata": {},
   "outputs": [],
   "source": [
    "from sklearn.feature_extraction.text import TfidfVectorizer\n",
    "## Selecting the vectorizer options\n",
    "ngram_tfidf_vectorizer_mnb = TfidfVectorizer(encoding='latin-1'\n",
    "                                                 , ngram_range=(1,2)\n",
    "                                                 , use_idf=True\n",
    "                                                 , min_df=5\n",
    "                                                 , max_features=3000\n",
    "                                            )\n",
    "#vectorizing and savind the vector\n",
    "vecs = ngram_tfidf_vectorizer_mnb.fit_transform(X)\n",
    "# placing the vector into a pandas data frame\n",
    "vecsdf=pd.DataFrame(vecs.toarray(),\n",
    "            columns=ngram_tfidf_vectorizer_mnb.get_feature_names_out())"
   ]
  },
  {
   "cell_type": "code",
   "execution_count": 126,
   "id": "bfdeaae2",
   "metadata": {},
   "outputs": [],
   "source": [
    "# adding feature set to data frame\n",
    "vecsdf['sent_2_norm']=sent_norm"
   ]
  },
  {
   "cell_type": "code",
   "execution_count": 127,
   "id": "394358b4",
   "metadata": {},
   "outputs": [],
   "source": [
    "# adding feature set to data frame\n",
    "X_bifs['sent_2_norm']=sent_norm\n",
    "X_bifs['pos_norm']=pos_norm\n",
    "X_bifs['neg_norm']=neg_norm"
   ]
  },
  {
   "cell_type": "code",
   "execution_count": 128,
   "id": "ae55405b",
   "metadata": {},
   "outputs": [
    {
     "name": "stdout",
     "output_type": "stream",
     "text": [
      "0.4955\n",
      "0.5186\n"
     ]
    }
   ],
   "source": [
    "# initializing the model\n",
    "mnb_bifs_final = MultinomialNB()\n",
    "#cross validation score\n",
    "mnb_cv_scores_bifs_final = cross_val_score(mnb_bifs_final, X_bifs, y, cv=10)\n",
    "#finding the overall average accuracy.\n",
    "mnb_cv_score_bifs_final = round(np.mean(mnb_cv_scores_bifs_final),4)\n",
    "print(mnb_cv_score_bifs_final)\n",
    "# initializing the model\n",
    "mnb_ngram_final = MultinomialNB()\n",
    "#cross validation score\n",
    "mnb_cv_scores_ngram_final = cross_val_score(mnb_ngram_final, vecsdf, y, cv=10)\n",
    "#finding the overall average accuracy.\n",
    "mnb_cv_score_ngram_final = round(np.mean(mnb_cv_scores_ngram_final),4)\n",
    "print(mnb_cv_score_ngram_final)"
   ]
  },
  {
   "cell_type": "code",
   "execution_count": 129,
   "id": "b6b12dbc",
   "metadata": {},
   "outputs": [
    {
     "name": "stdout",
     "output_type": "stream",
     "text": [
      "[[1269  448  114   73   96]\n",
      " [ 664  750  309  152  125]\n",
      " [ 275  390  639  454  242]\n",
      " [ 134  155  484 1160 1067]\n",
      " [ 103   42  123  604 2128]]\n",
      "\n",
      "              precision    recall  f1-score   support\n",
      "\n",
      "           1       0.52      0.63      0.57      2000\n",
      "           2       0.42      0.38      0.40      2000\n",
      "           3       0.38      0.32      0.35      2000\n",
      "           4       0.47      0.39      0.43      3000\n",
      "           5       0.58      0.71      0.64      3000\n",
      "\n",
      "    accuracy                           0.50     12000\n",
      "   macro avg       0.48      0.49      0.48     12000\n",
      "weighted avg       0.48      0.50      0.49     12000\n",
      "\n"
     ]
    }
   ],
   "source": [
    "# print confusion matrix and classification report\n",
    "mnb_bifs_final_pred = cross_val_predict(mnb_bifs_final, X_bifs, y, cv=10)\n",
    "\n",
    "from sklearn.metrics import confusion_matrix\n",
    "cm=confusion_matrix(y, mnb_bifs_final_pred, labels=[1,2,3,4,5])\n",
    "print(cm)\n",
    "print()\n",
    "\n",
    "from sklearn.metrics import classification_report\n",
    "target_names = ['1','2','3','4','5']\n",
    "mnb_bifs_final_report= classification_report(y, mnb_bifs_final_pred, target_names=target_names)\n",
    "print(mnb_bifs_final_report)"
   ]
  },
  {
   "cell_type": "code",
   "execution_count": 130,
   "id": "dee8dcfd",
   "metadata": {},
   "outputs": [],
   "source": [
    "mnb_bifs_final_f1_1_score = float(mnb_bifs_final_report[94:98])\n",
    "mnb_bifs_final_f1_2_score = float(mnb_bifs_final_report[148:152])\n",
    "mnb_bifs_final_f1_3_score = float(mnb_bifs_final_report[202:206])\n",
    "mnb_bifs_final_f1_4_score = float(mnb_bifs_final_report[256:260])\n",
    "mnb_bifs_final_f1_5_score = float(mnb_bifs_final_report[310:314])"
   ]
  },
  {
   "cell_type": "code",
   "execution_count": 131,
   "id": "bf5a88c4",
   "metadata": {},
   "outputs": [
    {
     "name": "stdout",
     "output_type": "stream",
     "text": [
      "[[1143  459   72  210  116]\n",
      " [ 482  815  216  360  127]\n",
      " [ 130  359  432  880  199]\n",
      " [  37   88  197 1710  968]\n",
      " [  40   17   18  802 2123]]\n",
      "\n",
      "              precision    recall  f1-score   support\n",
      "\n",
      "           1       0.62      0.57      0.60      2000\n",
      "           2       0.47      0.41      0.44      2000\n",
      "           3       0.46      0.22      0.29      2000\n",
      "           4       0.43      0.57      0.49      3000\n",
      "           5       0.60      0.71      0.65      3000\n",
      "\n",
      "    accuracy                           0.52     12000\n",
      "   macro avg       0.52      0.49      0.49     12000\n",
      "weighted avg       0.52      0.52      0.51     12000\n",
      "\n"
     ]
    }
   ],
   "source": [
    "# print confusion matrix and classification report\n",
    "mnb_ngram_final_pred = cross_val_predict(mnb_ngram_final, vecsdf, y, cv=10)\n",
    "\n",
    "from sklearn.metrics import confusion_matrix\n",
    "cm=confusion_matrix(y, mnb_ngram_final_pred, labels=[1,2,3,4,5])\n",
    "print(cm)\n",
    "print()\n",
    "\n",
    "from sklearn.metrics import classification_report\n",
    "target_names = ['1','2','3','4','5']\n",
    "mnb_ngram_final_report= classification_report(y, mnb_ngram_final_pred, target_names=target_names)\n",
    "print(mnb_ngram_final_report)"
   ]
  },
  {
   "cell_type": "code",
   "execution_count": 132,
   "id": "4bd51645",
   "metadata": {},
   "outputs": [],
   "source": [
    "mnb_ngram_final_f1_1_score = float(mnb_ngram_final_report[94:98])\n",
    "mnb_ngram_final_f1_2_score = float(mnb_ngram_final_report[148:152])\n",
    "mnb_ngram_final_f1_3_score = float(mnb_ngram_final_report[202:206])\n",
    "mnb_ngram_final_f1_4_score = float(mnb_ngram_final_report[256:260])\n",
    "mnb_ngram_final_f1_5_score = float(mnb_ngram_final_report[310:314])"
   ]
  },
  {
   "cell_type": "markdown",
   "id": "923a2efb",
   "metadata": {},
   "source": [
    "## Adding to dict"
   ]
  },
  {
   "cell_type": "code",
   "execution_count": 133,
   "id": "e1c6bf42",
   "metadata": {},
   "outputs": [],
   "source": [
    "final_dict_NLTK['mnb_cv_score_bifs_final']=mnb_cv_score_bifs_final\n",
    "final_dict_NLTK['mnb_bifs_final_f1_1_score']=mnb_bifs_final_f1_1_score\n",
    "final_dict_NLTK['mnb_bifs_final_f1_2_score']=mnb_bifs_final_f1_2_score\n",
    "final_dict_NLTK['mnb_bifs_final_f1_3_score']=mnb_bifs_final_f1_3_score\n",
    "final_dict_NLTK['mnb_bifs_final_f1_4_score']=mnb_bifs_final_f1_4_score\n",
    "final_dict_NLTK['mnb_bifs_final_f1_5_score']=mnb_bifs_final_f1_5_score"
   ]
  },
  {
   "cell_type": "code",
   "execution_count": 134,
   "id": "119d0a4a",
   "metadata": {},
   "outputs": [],
   "source": [
    "final_dict_Sklearn['mnb_cv_score_ngram_final']=mnb_cv_score_ngram_final\n",
    "final_dict_Sklearn['mnb_ngram_final_f1_1_score']=mnb_ngram_final_f1_1_score\n",
    "final_dict_Sklearn['mnb_ngram_final_f1_2_score']=mnb_ngram_final_f1_2_score\n",
    "final_dict_Sklearn['mnb_ngram_final_f1_3_score']=mnb_ngram_final_f1_3_score\n",
    "final_dict_Sklearn['mnb_ngram_final_f1_4_score']=mnb_ngram_final_f1_4_score\n",
    "final_dict_Sklearn['mnb_ngram_final_f1_5_score']=mnb_ngram_final_f1_5_score"
   ]
  },
  {
   "cell_type": "code",
   "execution_count": 135,
   "id": "e4002961",
   "metadata": {},
   "outputs": [
    {
     "data": {
      "image/png": "[encoded data removed]",
      "text/plain": [
       "<Figure size 4320x1224 with 1 Axes>"
      ]
     },
     "metadata": {
      "needs_background": "light"
     },
     "output_type": "display_data"
    }
   ],
   "source": [
    "import matplotlib.pyplot as plt\n",
    "import matplotlib.patches as mpatches\n",
    "# function to add value labels\n",
    "def addlabels(y):\n",
    "    for i in range(len(y)):\n",
    "        plt.text(i,y[i],y[i],fontweight = 'bold')\n",
    "\n",
    "\n",
    "values = list(final_dict_NLTK.values())\n",
    "names = list(final_dict_NLTK.keys())\n",
    "colors = ['blue','navy','navy','navy','navy','navy'\n",
    "          ,'green','darkgreen','darkgreen','darkgreen','darkgreen','darkgreen'\n",
    "]\n",
    "plt.figure(figsize=(60, 17))\n",
    "\n",
    "plt.subplot(121)\n",
    "plt.bar(names\n",
    "        ,values\n",
    "        ,color= colors\n",
    "       )\n",
    "plt.xticks(rotation= 45)\n",
    "#plt.show()\n",
    "# legend manually added\n",
    "l1 = mpatches.Patch(color='blue', label='Original Accuracy')\n",
    "l2 = mpatches.Patch(color='navy', label='Original F1 Score')\n",
    "l3 = mpatches.Patch(color='green', label='Final Accuracy')\n",
    "l4 = mpatches.Patch(color='darkgreen', label='Final F1 Score')\n",
    "\n",
    "\n",
    "plt.ylabel('Percent')\n",
    "plt.xlabel('Model')\n",
    "plt.title('Original NLTK bigrams vs NLTK bigrams with multiple feature sets(MNB)')\n",
    "\n",
    "addlabels(values)\n",
    "plt.legend(handles=[l1, l2, l3,l4], loc=0)\n",
    "plt.show()"
   ]
  },
  {
   "cell_type": "code",
   "execution_count": 136,
   "id": "c7c2b518",
   "metadata": {},
   "outputs": [
    {
     "data": {
      "image/png": "[encoded data removed]",
      "text/plain": [
       "<Figure size 4320x1224 with 1 Axes>"
      ]
     },
     "metadata": {
      "needs_background": "light"
     },
     "output_type": "display_data"
    }
   ],
   "source": [
    "import matplotlib.pyplot as plt\n",
    "import matplotlib.patches as mpatches\n",
    "# function to add value labels\n",
    "def addlabels(y):\n",
    "    for i in range(len(y)):\n",
    "        plt.text(i,y[i],y[i],fontweight = 'bold')\n",
    "\n",
    "\n",
    "values = list(final_dict_Sklearn.values())\n",
    "names = list(final_dict_Sklearn.keys())\n",
    "colors = ['orange','sandybrown','sandybrown','sandybrown','sandybrown','sandybrown'\n",
    "          ,'turquoise','aquamarine','aquamarine','aquamarine','aquamarine','aquamarine'\n",
    "]\n",
    "plt.figure(figsize=(60, 17))\n",
    "\n",
    "plt.subplot(121)\n",
    "plt.bar(names\n",
    "        ,values\n",
    "        ,color= colors\n",
    "       )\n",
    "plt.xticks(rotation= 45)\n",
    "#plt.show()\n",
    "# legend manually added\n",
    "l1 = mpatches.Patch(color='orange', label='Original Accuracy')\n",
    "l2 = mpatches.Patch(color='sandybrown', label='Original F1 Score')\n",
    "l3 = mpatches.Patch(color='turquoise', label='Final Accuracy')\n",
    "l4 = mpatches.Patch(color='aquamarine', label='Final F1 Score')\n",
    "\n",
    "\n",
    "plt.ylabel('Percent')\n",
    "plt.xlabel('Model')\n",
    "plt.title('Original sklearn Ngrams vs sklearn Ngrams with multiple feature sets(MNB)')\n",
    "\n",
    "addlabels(values)\n",
    "plt.legend(handles=[l1, l2, l3,l4], loc=2)\n",
    "plt.show()"
   ]
  },
  {
   "cell_type": "code",
   "execution_count": null,
   "id": "0009873a",
   "metadata": {},
   "outputs": [],
   "source": []
  }
 ],
 "metadata": {
  "kernelspec": {
   "display_name": "Python 3 (ipykernel)",
   "language": "python",
   "name": "python3"
  },
  "language_info": {
   "codemirror_mode": {
    "name": "ipython",
    "version": 3
   },
   "file_extension": ".py",
   "mimetype": "text/x-python",
   "name": "python",
   "nbconvert_exporter": "python",
   "pygments_lexer": "ipython3",
   "version": "3.8.8"
  }
 },
 "nbformat": 4,
 "nbformat_minor": 5
}
